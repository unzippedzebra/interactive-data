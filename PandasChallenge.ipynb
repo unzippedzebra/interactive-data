{
 "cells": [
  {
   "cell_type": "markdown",
   "id": "e4ac5b1e-9d1b-4a22-9ca9-ff3d5276a54b",
   "metadata": {},
   "source": [
    "![a panda looking at a dataframe](pandaframes.png)\n",
    "- *a panda is observing a dataframe --s 250 --v 6.0* - Midjourney"
   ]
  },
  {
   "cell_type": "code",
   "execution_count": 1,
   "id": "0c648dab-c3a9-40b2-93ba-78a988e2e3eb",
   "metadata": {},
   "outputs": [],
   "source": [
    "import pandas as pd"
   ]
  },
  {
   "cell_type": "code",
   "execution_count": 14,
   "id": "0c1ddf64-3be8-4782-bf48-545aa4e61db5",
   "metadata": {},
   "outputs": [],
   "source": [
    "pandaData = {\n",
    "    \"Have pandas\": [\"Yes\", \"Yes\", \"No\"],\n",
    "    \"Have pandas after 2024\": [\"No\", \"No\", \"No\"],\n",
    "    \"Have pythons\": [\"Yes\", \"Yes\", \"Yes\"]\n",
    "}"
   ]
  },
  {
   "cell_type": "code",
   "execution_count": 12,
   "id": "e161c069-00ca-4ea7-b738-71e3e54ea9ec",
   "metadata": {},
   "outputs": [],
   "source": [
    "pandaDataFrame = pd.DataFrame(pandaData)\n",
    "pandaDataFrame.index = [\n",
    "    \"National Zoo\",\n",
    "    \"Zoo Atlanta\",\n",
    "    \"Akron Zoo\"\n",
    "]"
   ]
  },
  {
   "cell_type": "code",
   "execution_count": 13,
   "id": "4daf45b4-034d-4620-a2a7-daf87fdca363",
   "metadata": {},
   "outputs": [
    {
     "data": {
      "text/html": [
       "<div>\n",
       "<style scoped>\n",
       "    .dataframe tbody tr th:only-of-type {\n",
       "        vertical-align: middle;\n",
       "    }\n",
       "\n",
       "    .dataframe tbody tr th {\n",
       "        vertical-align: top;\n",
       "    }\n",
       "\n",
       "    .dataframe thead th {\n",
       "        text-align: right;\n",
       "    }\n",
       "</style>\n",
       "<table border=\"1\" class=\"dataframe\">\n",
       "  <thead>\n",
       "    <tr style=\"text-align: right;\">\n",
       "      <th></th>\n",
       "      <th>Have pandas</th>\n",
       "      <th>Won't have pandas after 2024</th>\n",
       "      <th>Have pythons</th>\n",
       "    </tr>\n",
       "  </thead>\n",
       "  <tbody>\n",
       "    <tr>\n",
       "      <th>National Zoo</th>\n",
       "      <td>Yes</td>\n",
       "      <td>Correct</td>\n",
       "      <td>Yes</td>\n",
       "    </tr>\n",
       "    <tr>\n",
       "      <th>Zoo Atlanta</th>\n",
       "      <td>Yes</td>\n",
       "      <td>Correct</td>\n",
       "      <td>Yes</td>\n",
       "    </tr>\n",
       "    <tr>\n",
       "      <th>Akron Zoo</th>\n",
       "      <td>No</td>\n",
       "      <td>Correct</td>\n",
       "      <td>Yes</td>\n",
       "    </tr>\n",
       "  </tbody>\n",
       "</table>\n",
       "</div>"
      ],
      "text/plain": [
       "             Have pandas Won't have pandas after 2024 Have pythons\n",
       "National Zoo         Yes                      Correct          Yes\n",
       "Zoo Atlanta          Yes                      Correct          Yes\n",
       "Akron Zoo             No                      Correct          Yes"
      ]
     },
     "execution_count": 13,
     "metadata": {},
     "output_type": "execute_result"
    }
   ],
   "source": [
    "pandaDataFrame"
   ]
  },
  {
   "cell_type": "code",
   "execution_count": 16,
   "id": "3590e1c2-6d94-41a0-bc24-9fe1e154aefc",
   "metadata": {},
   "outputs": [
    {
     "data": {
      "text/html": [
       "<div>\n",
       "<style scoped>\n",
       "    .dataframe tbody tr th:only-of-type {\n",
       "        vertical-align: middle;\n",
       "    }\n",
       "\n",
       "    .dataframe tbody tr th {\n",
       "        vertical-align: top;\n",
       "    }\n",
       "\n",
       "    .dataframe thead th {\n",
       "        text-align: right;\n",
       "    }\n",
       "</style>\n",
       "<table border=\"1\" class=\"dataframe\">\n",
       "  <thead>\n",
       "    <tr style=\"text-align: right;\">\n",
       "      <th></th>\n",
       "      <th>Have pandas</th>\n",
       "      <th>Won't have pandas after 2024</th>\n",
       "      <th>Have pythons</th>\n",
       "    </tr>\n",
       "  </thead>\n",
       "  <tbody>\n",
       "    <tr>\n",
       "      <th>National Zoo</th>\n",
       "      <td>Yes</td>\n",
       "      <td>Correct</td>\n",
       "      <td>Yes</td>\n",
       "    </tr>\n",
       "    <tr>\n",
       "      <th>Zoo Atlanta</th>\n",
       "      <td>Yes</td>\n",
       "      <td>Correct</td>\n",
       "      <td>Yes</td>\n",
       "    </tr>\n",
       "    <tr>\n",
       "      <th>Akron Zoo</th>\n",
       "      <td>No</td>\n",
       "      <td>Correct</td>\n",
       "      <td>Yes</td>\n",
       "    </tr>\n",
       "  </tbody>\n",
       "</table>\n",
       "</div>"
      ],
      "text/plain": [
       "             Have pandas Won't have pandas after 2024 Have pythons\n",
       "National Zoo         Yes                      Correct          Yes\n",
       "Zoo Atlanta          Yes                      Correct          Yes\n",
       "Akron Zoo             No                      Correct          Yes"
      ]
     },
     "execution_count": 16,
     "metadata": {},
     "output_type": "execute_result"
    }
   ],
   "source": [
    "pandaDataFrame.head()"
   ]
  },
  {
   "cell_type": "code",
   "execution_count": 18,
   "id": "8561ac8e-33d3-4c15-85b4-033f1fa7a942",
   "metadata": {},
   "outputs": [
    {
     "data": {
      "text/plain": [
       "Index(['National Zoo', 'Zoo Atlanta', 'Akron Zoo'], dtype='object')"
      ]
     },
     "execution_count": 18,
     "metadata": {},
     "output_type": "execute_result"
    }
   ],
   "source": [
    "pandaDataFrame.index"
   ]
  },
  {
   "cell_type": "code",
   "execution_count": 19,
   "id": "905a2a25-313d-49d4-abe4-51a755da3949",
   "metadata": {},
   "outputs": [
    {
     "data": {
      "text/plain": [
       "National Zoo    Yes\n",
       "Zoo Atlanta     Yes\n",
       "Akron Zoo        No\n",
       "Name: Have pandas, dtype: object"
      ]
     },
     "execution_count": 19,
     "metadata": {},
     "output_type": "execute_result"
    }
   ],
   "source": [
    "pandaDataFrame['Have pandas']"
   ]
  },
  {
   "cell_type": "code",
   "execution_count": 23,
   "id": "49e0e91a-b87b-4820-a4a2-75efe9c2e89d",
   "metadata": {},
   "outputs": [
    {
     "data": {
      "text/plain": [
       "Have pandas                         Yes\n",
       "Won't have pandas after 2024    Correct\n",
       "Have pythons                        Yes\n",
       "Name: National Zoo, dtype: object"
      ]
     },
     "execution_count": 23,
     "metadata": {},
     "output_type": "execute_result"
    }
   ],
   "source": [
    "pandaDataFrame.iloc[0]"
   ]
  },
  {
   "cell_type": "code",
   "execution_count": 24,
   "id": "e1bb99e7-3b5e-410d-a987-ff8abc2965ba",
   "metadata": {},
   "outputs": [],
   "source": [
    "pandaDataFrame.to_csv(\"pandaDataFramecsv.csv\")"
   ]
  },
  {
   "cell_type": "code",
   "execution_count": 25,
   "id": "3ab6b7af-b586-4c3a-b018-69a39da8cb07",
   "metadata": {},
   "outputs": [
    {
     "name": "stdout",
     "output_type": "stream",
     "text": [
      "Murray, S - 2017 - Chapter 1 Introduction - Interactive Data Visualization for the Web.pdf\n",
      "PandasChallenge.ipynb\n",
      "Wylie_SystemsCheck.ipynb\n",
      "cces_example_data.csv\n",
      "in-class_1-29-24.ipynb\n",
      "inclass_1-22-24.ipynb\n",
      "pandaDataFramecsv.csv\n",
      "subset_cces_example_data.csv\n"
     ]
    }
   ],
   "source": [
    "ls"
   ]
  },
  {
   "cell_type": "markdown",
   "id": "2e87d8e1-e612-476e-a8d0-e7fdd906d1eb",
   "metadata": {},
   "source": [
    "- **Why are dynamic, interactive data visualizations useful when communicating data?**\n",
    "  1. Humans are visual creatures.\n",
    "  2. They can represent multidimensional datasets.\n",
    "  3. Allows and empowers people to explore the data for themselves.\n",
    "  4. Encourages engagement. "
   ]
  },
  {
   "cell_type": "code",
   "execution_count": null,
   "id": "a066eae8-22e4-44a6-ad57-0734017065fa",
   "metadata": {},
   "outputs": [],
   "source": []
  }
 ],
 "metadata": {
  "kernelspec": {
   "display_name": "Python 3 (ipykernel)",
   "language": "python",
   "name": "python3"
  },
  "language_info": {
   "codemirror_mode": {
    "name": "ipython",
    "version": 3
   },
   "file_extension": ".py",
   "mimetype": "text/x-python",
   "name": "python",
   "nbconvert_exporter": "python",
   "pygments_lexer": "ipython3",
   "version": "3.12.1"
  }
 },
 "nbformat": 4,
 "nbformat_minor": 5
}

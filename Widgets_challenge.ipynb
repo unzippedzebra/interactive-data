{
 "cells": [
  {
   "cell_type": "markdown",
   "metadata": {},
   "source": [
    "# ipywidgets\n",
    "\n",
    "**What is ipywidgets?** <br>\n",
    "A *framework* providing simple interactive controls (GUI - graphical user interface) for Jupyter Notebook (and other Jupyter apps). The ipy stands for IPython (interactive Python). So, interactive python widgets. Opensource and maintained by Jupyter.\n",
    "\n",
    "**Framework vs Library**<br>\n",
    "[FreeCodeCamp Explanation](https://www.freecodecamp.org/news/the-difference-between-a-framework-and-a-library-bd133054023f/)\n",
    "\n",
    "**Links**<br>\n",
    "[Jupyter Widgets Documentation](https://ipywidgets.readthedocs.io/en/stable/index.html) <br>\n",
    "No handy cheatsheets, sorry.\n",
    "\n",
    "---\n",
    "## Agenda\n",
    "Importing the necessarily packages<br>\n",
    "Quick Data Overview<br> <br>\n",
    "**Widgets**</br>\n",
    "- Slider\n",
    "    - Parameters\n",
    "    - Example\n",
    "    - Implementation with data \n",
    "- Dropdown\n",
    "    - Parameters\n",
    "    - Implementation with data\n",
    "- Interactivity\n",
    "- The Dashboard\n",
    "- Bonus Content\n",
    "  - Boolean Widgets\n",
    "  - Selection Slider\n",
    "  - Quick Notes on Styling\n",
    " \n",
    "<br>\n"
   ]
  },
  {
   "cell_type": "markdown",
   "metadata": {},
   "source": [
    "#### Importing all needed packages\n",
    "---"
   ]
  },
  {
   "cell_type": "code",
   "execution_count": 1,
   "metadata": {},
   "outputs": [],
   "source": [
    "#pip install plotly\n"
   ]
  },
  {
   "cell_type": "code",
   "execution_count": 1,
   "metadata": {},
   "outputs": [],
   "source": [
    "import pandas as pd\n",
    "import numpy as np\n",
    "import matplotlib.pyplot as plt\n",
    "%matplotlib inline\n",
    "plt.rcParams['grid.linestyle'] = '--' #for better visibility \n",
    "import plotly.graph_objects as go\n",
    "from ipywidgets import widgets\n",
    "import datetime\n",
    "import seaborn as sns\n",
    "from IPython.display import display"
   ]
  },
  {
   "cell_type": "code",
   "execution_count": 17,
   "metadata": {},
   "outputs": [],
   "source": [
    "data.Product=data[\"Product\"].astype(\"category\")\n",
    "data.Gender=data[\"Gender\"].astype(\"category\")\n",
    "data.MaritalStatus=data [\"MaritalStatus\"].astype(\"category\")\n",
    "data.Age = data [\"Age\"].astype(\"category\")"
   ]
  },
  {
   "cell_type": "code",
   "execution_count": 12,
   "metadata": {},
   "outputs": [
    {
     "data": {
      "text/plain": [
       "'0.12.2'"
      ]
     },
     "execution_count": 12,
     "metadata": {},
     "output_type": "execute_result"
    }
   ],
   "source": [
    "sns.__version__"
   ]
  },
  {
   "cell_type": "markdown",
   "metadata": {},
   "source": [
    "#### Quick Data Overview\n",
    "---\n",
    "\n",
    "**Goals**<br>\n",
    "Take the data (treadmill purchases) from the Cardio Good Fitness store, put it a graph and make it more interactive by constructing a simple dashboard.\n",
    "\n",
    "---"
   ]
  },
  {
   "cell_type": "code",
   "execution_count": 3,
   "metadata": {},
   "outputs": [
    {
     "data": {
      "text/html": [
       "<div>\n",
       "<style scoped>\n",
       "    .dataframe tbody tr th:only-of-type {\n",
       "        vertical-align: middle;\n",
       "    }\n",
       "\n",
       "    .dataframe tbody tr th {\n",
       "        vertical-align: top;\n",
       "    }\n",
       "\n",
       "    .dataframe thead th {\n",
       "        text-align: right;\n",
       "    }\n",
       "</style>\n",
       "<table border=\"1\" class=\"dataframe\">\n",
       "  <thead>\n",
       "    <tr style=\"text-align: right;\">\n",
       "      <th></th>\n",
       "      <th>Product</th>\n",
       "      <th>Age</th>\n",
       "      <th>Gender</th>\n",
       "      <th>Education</th>\n",
       "      <th>MaritalStatus</th>\n",
       "      <th>Usage</th>\n",
       "      <th>Fitness</th>\n",
       "      <th>Income</th>\n",
       "      <th>Miles</th>\n",
       "    </tr>\n",
       "  </thead>\n",
       "  <tbody>\n",
       "    <tr>\n",
       "      <th>0</th>\n",
       "      <td>TM195</td>\n",
       "      <td>18</td>\n",
       "      <td>Male</td>\n",
       "      <td>14</td>\n",
       "      <td>Single</td>\n",
       "      <td>3</td>\n",
       "      <td>4</td>\n",
       "      <td>29562</td>\n",
       "      <td>112</td>\n",
       "    </tr>\n",
       "    <tr>\n",
       "      <th>1</th>\n",
       "      <td>TM195</td>\n",
       "      <td>19</td>\n",
       "      <td>Male</td>\n",
       "      <td>15</td>\n",
       "      <td>Single</td>\n",
       "      <td>2</td>\n",
       "      <td>3</td>\n",
       "      <td>31836</td>\n",
       "      <td>75</td>\n",
       "    </tr>\n",
       "    <tr>\n",
       "      <th>2</th>\n",
       "      <td>TM195</td>\n",
       "      <td>19</td>\n",
       "      <td>Female</td>\n",
       "      <td>14</td>\n",
       "      <td>Partnered</td>\n",
       "      <td>4</td>\n",
       "      <td>3</td>\n",
       "      <td>30699</td>\n",
       "      <td>66</td>\n",
       "    </tr>\n",
       "    <tr>\n",
       "      <th>3</th>\n",
       "      <td>TM195</td>\n",
       "      <td>19</td>\n",
       "      <td>Male</td>\n",
       "      <td>12</td>\n",
       "      <td>Single</td>\n",
       "      <td>3</td>\n",
       "      <td>3</td>\n",
       "      <td>32973</td>\n",
       "      <td>85</td>\n",
       "    </tr>\n",
       "    <tr>\n",
       "      <th>4</th>\n",
       "      <td>TM195</td>\n",
       "      <td>20</td>\n",
       "      <td>Male</td>\n",
       "      <td>13</td>\n",
       "      <td>Partnered</td>\n",
       "      <td>4</td>\n",
       "      <td>2</td>\n",
       "      <td>35247</td>\n",
       "      <td>47</td>\n",
       "    </tr>\n",
       "    <tr>\n",
       "      <th>5</th>\n",
       "      <td>TM195</td>\n",
       "      <td>20</td>\n",
       "      <td>Female</td>\n",
       "      <td>14</td>\n",
       "      <td>Partnered</td>\n",
       "      <td>3</td>\n",
       "      <td>3</td>\n",
       "      <td>32973</td>\n",
       "      <td>66</td>\n",
       "    </tr>\n",
       "    <tr>\n",
       "      <th>6</th>\n",
       "      <td>TM195</td>\n",
       "      <td>21</td>\n",
       "      <td>Female</td>\n",
       "      <td>14</td>\n",
       "      <td>Partnered</td>\n",
       "      <td>3</td>\n",
       "      <td>3</td>\n",
       "      <td>35247</td>\n",
       "      <td>75</td>\n",
       "    </tr>\n",
       "    <tr>\n",
       "      <th>7</th>\n",
       "      <td>TM195</td>\n",
       "      <td>21</td>\n",
       "      <td>Male</td>\n",
       "      <td>13</td>\n",
       "      <td>Single</td>\n",
       "      <td>3</td>\n",
       "      <td>3</td>\n",
       "      <td>32973</td>\n",
       "      <td>85</td>\n",
       "    </tr>\n",
       "    <tr>\n",
       "      <th>8</th>\n",
       "      <td>TM195</td>\n",
       "      <td>21</td>\n",
       "      <td>Male</td>\n",
       "      <td>15</td>\n",
       "      <td>Single</td>\n",
       "      <td>5</td>\n",
       "      <td>4</td>\n",
       "      <td>35247</td>\n",
       "      <td>141</td>\n",
       "    </tr>\n",
       "    <tr>\n",
       "      <th>9</th>\n",
       "      <td>TM195</td>\n",
       "      <td>21</td>\n",
       "      <td>Female</td>\n",
       "      <td>15</td>\n",
       "      <td>Partnered</td>\n",
       "      <td>2</td>\n",
       "      <td>3</td>\n",
       "      <td>37521</td>\n",
       "      <td>85</td>\n",
       "    </tr>\n",
       "  </tbody>\n",
       "</table>\n",
       "</div>"
      ],
      "text/plain": [
       "  Product  Age  Gender  Education MaritalStatus  Usage  Fitness  Income  Miles\n",
       "0   TM195   18    Male         14        Single      3        4   29562    112\n",
       "1   TM195   19    Male         15        Single      2        3   31836     75\n",
       "2   TM195   19  Female         14     Partnered      4        3   30699     66\n",
       "3   TM195   19    Male         12        Single      3        3   32973     85\n",
       "4   TM195   20    Male         13     Partnered      4        2   35247     47\n",
       "5   TM195   20  Female         14     Partnered      3        3   32973     66\n",
       "6   TM195   21  Female         14     Partnered      3        3   35247     75\n",
       "7   TM195   21    Male         13        Single      3        3   32973     85\n",
       "8   TM195   21    Male         15        Single      5        4   35247    141\n",
       "9   TM195   21  Female         15     Partnered      2        3   37521     85"
      ]
     },
     "execution_count": 3,
     "metadata": {},
     "output_type": "execute_result"
    }
   ],
   "source": [
    "data= pd.read_csv(\"CardioGoodFitness.csv\")\n",
    "data.head(10)"
   ]
  },
  {
   "cell_type": "code",
   "execution_count": null,
   "metadata": {},
   "outputs": [],
   "source": [
    "data.shape"
   ]
  },
  {
   "cell_type": "code",
   "execution_count": null,
   "metadata": {},
   "outputs": [],
   "source": [
    "data.info()"
   ]
  },
  {
   "cell_type": "markdown",
   "metadata": {},
   "source": [
    "\n",
    "**Observation:-**\n",
    "\n",
    "1.Product,Gender and Martial status are object datatype .\n",
    "\n",
    "2.Age, Education, Usage, Fitness, Income, Miles are integer datatype."
   ]
  },
  {
   "cell_type": "code",
   "execution_count": null,
   "metadata": {},
   "outputs": [],
   "source": [
    "data.describe(include=\"all\")"
   ]
  },
  {
   "cell_type": "markdown",
   "metadata": {},
   "source": [
    "\n",
    "**Observation:-**\n",
    "\n",
    "1.The customer age range is between (18 - 50) years, while average age is 28.79 and median is 26 years.\n",
    "\n",
    "2.The Customer education range is (12 -21) years, mean is 15,57 years & median is 16 years & maximum is 21 years.\n",
    "\n",
    "3.Max. Income of customers is 100K, mean income is 53.72K, while median is around 50.5K.\n",
    "\n",
    "4.Customer expects to runs on an mean of 103.2 miles per week, median is 94 miles per week.\n",
    "\n",
    "5.Expected Treadmill usage is at least once a week, Max is 7 times a week and the Average is 3 times a week.\n",
    "\n",
    "6.Average fitness is 3.\n"
   ]
  },
  {
   "cell_type": "code",
   "execution_count": null,
   "metadata": {},
   "outputs": [],
   "source": [
    "data.Product.value_counts()"
   ]
  },
  {
   "cell_type": "code",
   "execution_count": 8,
   "metadata": {},
   "outputs": [
    {
     "data": {
      "image/png": "[encoded data removed]",
      "text/plain": [
       "<Figure size 700x700 with 1 Axes>"
      ]
     },
     "metadata": {},
     "output_type": "display_data"
    }
   ],
   "source": [
    "data['Product'].value_counts().plot.pie(autopct='%1.1f%%',figsize=(7,7))\n",
    "plt.show()"
   ]
  },
  {
   "cell_type": "markdown",
   "metadata": {},
   "source": [
    "## Selection Widget: Sliders\n",
    "---\n",
    "#### IntSlider \n",
    "For integer values! 1, 2, 3, 4...\n",
    "\n",
    "- `value` : Value. Starting value\n",
    "- `min` : Value. Minimum value\n",
    "- `max` : Value. Maxium value. \n",
    "- `step` : Value. Increments between values, ie smallest possible change between two adjacent values.\n",
    "- `description` : String. Label.\n",
    "- `disabled` : True / False. False is default.\n",
    "- `continuous_update` : True / False. True is default. Relevant for expensive code.\n",
    "- `readout` : True / False. True is default.\n",
    "- `orientation`: String. \"Horizontal\" or \"Vertical\". Horizontal is default.\n",
    "- `style` : Various styling, but important here for letting the description be legible.\n",
    "\n",
    "\n",
    "#### FloatSlider\n",
    "For float values! 1.001, 2.2, 3.4 ...\n",
    "\n",
    "- `value` : Value. Starting value\n",
    "- `min` : Value. Minimum value\n",
    "- `max` : Value. Maxium value. \n",
    "- `step` : Value. Increments between values, ie smallest possible change between two adjacent values.\n",
    "- `description` : String. Label.\n",
    "- `disabled` : True / False. False is default.\n",
    "- `continuous_update` : True / False. True is default. Relevant for expensive code.\n",
    "- `readout` : True / False. True is default.\n",
    "- `orientation`: String. \"Horizontal\" or \"Vertical\". Horizontal is default.\n",
    "- `style` : Various styling, but important here for letting the description be legible.\n",
    "- `readout_format` : \".1f\" which gives 0.0, \".4f\" is 0.0000, etc.\n"
   ]
  },
  {
   "cell_type": "markdown",
   "metadata": {},
   "source": [
    "### Slider Code\n",
    "---"
   ]
  },
  {
   "cell_type": "code",
   "execution_count": 5,
   "metadata": {},
   "outputs": [
    {
     "data": {
      "application/vnd.jupyter.widget-view+json": {
       "model_id": "4d24db904c224479992c858c41efd2d8",
       "version_major": 2,
       "version_minor": 0
      },
      "text/plain": [
       "IntSlider(value=50, description='Test: how far does this go', step=3, style=SliderStyle(description_width='ini…"
      ]
     },
     "execution_count": 5,
     "metadata": {},
     "output_type": "execute_result"
    }
   ],
   "source": [
    "widgets.IntSlider(\n",
    "    value=50,\n",
    "    min=0,\n",
    "    max=100,\n",
    "    step=3,\n",
    "    description=\"Test: how far does this go\",\n",
    "    style = { \"description_width\" : \"initial\" },\n",
    ")"
   ]
  },
  {
   "cell_type": "markdown",
   "metadata": {},
   "source": [
    "**UX Note**: You can click and type in a number instead of scrolling around to find a specific number.\n",
    "\n",
    "### Implementing the Slider Widget with our Data\n",
    "---"
   ]
  },
  {
   "cell_type": "code",
   "execution_count": 6,
   "metadata": {},
   "outputs": [
    {
     "data": {
      "application/vnd.jupyter.widget-view+json": {
       "model_id": "1b15294e1b754e09b87dc46da24d3f88",
       "version_major": 2,
       "version_minor": 0
      },
      "text/plain": [
       "FloatSlider(value=29562.0, description='Income Filter:', max=104581.0, min=29562.0, step=1000.0, style=SliderS…"
      ]
     },
     "execution_count": 6,
     "metadata": {},
     "output_type": "execute_result"
    }
   ],
   "source": [
    "# Creating a slider widget for filtering by income\n",
    "widgets.FloatSlider(\n",
    "    value=data['Income'].min(),\n",
    "    min=data['Income'].min(),\n",
    "    max=data['Income'].max(),\n",
    "    step=1000,\n",
    "    orientation='horizontal',\n",
    "    description='Income Filter:',\n",
    "    style = { \"description_width\" : \"initial\" },\n",
    ")"
   ]
  },
  {
   "cell_type": "code",
   "execution_count": 7,
   "metadata": {},
   "outputs": [
    {
     "data": {
      "application/vnd.jupyter.widget-view+json": {
       "model_id": "490b318830094c249434c64e04ff3898",
       "version_major": 2,
       "version_minor": 0
      },
      "text/plain": [
       "FloatSlider(value=29562.0, description='Income Filter:', max=104581.0, min=29562.0, orientation='vertical', st…"
      ]
     },
     "execution_count": 7,
     "metadata": {},
     "output_type": "execute_result"
    }
   ],
   "source": [
    "# changing slider widget to vertical position\n",
    "widgets.FloatSlider(\n",
    "    value=data['Income'].min(),\n",
    "    min=data['Income'].min(),\n",
    "    max=data['Income'].max(),\n",
    "    step=1000,\n",
    "    orientation='vertical',\n",
    "    description='Income Filter:',\n",
    ")"
   ]
  },
  {
   "cell_type": "markdown",
   "metadata": {},
   "source": [
    "## Selection Widget: Dropdown\n",
    "---\n",
    "\n",
    "- `options`: List. (An array if you're coming from Javascript). <br>\n",
    "- `value`: String. Starting option. <br>\n",
    "- `description`: String. The label.<br>\n",
    "- `disabled`: True/False - If the togglebox can be interacted with. False is default.<br>\n",
    "&nbsp;&nbsp;&nbsp;&nbsp;*Why?* Perhaps another interactive option disables and enables toggleboxes based on other options selected.<br>\n",
    "\n",
    "**Useful for**: Data filtering, parameter changing, dimension changing, selecting metrics (like error metrics)<br>\n",
    "**Best Practices:** Clear options, grouping objects logically. Don't overwhelm with too many options on one dropdown. <br>\n",
    "**Common Errors:** Make sure to connect your widget to the content and make it interactive! Advanced: Built in error handling."
   ]
  },
  {
   "cell_type": "code",
   "execution_count": 8,
   "metadata": {},
   "outputs": [
    {
     "data": {
      "application/vnd.jupyter.widget-view+json": {
       "model_id": "aaea58e59bf54251a454fae264600a60",
       "version_major": 2,
       "version_minor": 0
      },
      "text/plain": [
       "Dropdown(description='Attributes:', index=2, options=('Product', 'Age', 'Gender', 'Education', 'MaritalStatus'…"
      ]
     },
     "metadata": {},
     "output_type": "display_data"
    }
   ],
   "source": [
    "# Creating a dropdown widget \n",
    "product_dropdown= widgets.Dropdown(\n",
    "    options=data.columns.tolist(),\n",
    "    value='Gender',\n",
    "    description='Attributes:',\n",
    "    disabled=False,\n",
    ")\n",
    "display(product_dropdown)"
   ]
  },
  {
   "cell_type": "markdown",
   "metadata": {},
   "source": [
    "### Dropdown list Widget excluding Product and Income\n"
   ]
  },
  {
   "cell_type": "code",
   "execution_count": 9,
   "metadata": {},
   "outputs": [
    {
     "data": {
      "application/vnd.jupyter.widget-view+json": {
       "model_id": "c51270504b2944ff858729790623182a",
       "version_major": 2,
       "version_minor": 0
      },
      "text/plain": [
       "Dropdown(description='Y Variable:', options=('Age', 'Gender', 'Education', 'MaritalStatus', 'Usage', 'Fitness'…"
      ]
     },
     "execution_count": 9,
     "metadata": {},
     "output_type": "execute_result"
    }
   ],
   "source": [
    "# Excluding 'Product' and 'Income' from Y-axis\n",
    "y_variables = [col for col in data.columns if col not in ['Product', 'Income']]\n",
    "\n",
    "# Creating a dropdown widget for selecting the Y-axis variable\n",
    "widgets.Dropdown(\n",
    "    options=y_variables,\n",
    "    value='Age',\n",
    "    description='Y Variable:'\n",
    ")"
   ]
  },
  {
   "cell_type": "markdown",
   "metadata": {},
   "source": [
    "**Countplot graph to represent the data**"
   ]
  },
  {
   "cell_type": "code",
   "execution_count": 13,
   "metadata": {},
   "outputs": [
    {
     "name": "stderr",
     "output_type": "stream",
     "text": [
      "/Users/lee/anaconda3/envs/indata_sp24/lib/python3.12/site-packages/seaborn/categorical.py:641: FutureWarning: The default of observed=False is deprecated and will be changed to True in a future version of pandas. Pass observed=False to retain current behavior or observed=True to adopt the future default and silence this warning.\n",
      "  grouped_vals = vals.groupby(grouper)\n",
      "/Users/lee/anaconda3/envs/indata_sp24/lib/python3.12/site-packages/seaborn/categorical.py:641: FutureWarning: The default of observed=False is deprecated and will be changed to True in a future version of pandas. Pass observed=False to retain current behavior or observed=True to adopt the future default and silence this warning.\n",
      "  grouped_vals = vals.groupby(grouper)\n"
     ]
    },
    {
     "data": {
      "image/png": "[encoded data removed]",
      "text/plain": [
       "<Figure size 1000x600 with 1 Axes>"
      ]
     },
     "metadata": {},
     "output_type": "display_data"
    }
   ],
   "source": [
    "# Creating a countplot graph to use it in our dashboard\n",
    "y_variable='Age'\n",
    "plt.figure(figsize=(10, 6))\n",
    "sns.countplot(x='Product', hue= y_variable, data=data, palette='viridis')\n",
    "plt.title(f'Count of Products Grouped by {y_variable}')\n",
    "plt.xlabel('Product')\n",
    "plt.ylabel('Count')\n",
    "plt.legend(title= y_variable)\n",
    "plt.show() "
   ]
  },
  {
   "cell_type": "markdown",
   "metadata": {},
   "source": [
    "### How to make the Widget Properly Interactive\n",
    "---\n",
    "\n",
    "A few options:<br>\n",
    "\n",
    "- **interactive**\n",
    "- **interact**\n",
    "- **interactive_output**\n",
    "- **observe**\n",
    "\n",
    "We're going to focus on [**interactive**](https://ipywidgets.readthedocs.io/en/latest/examples/Using%20Interact.html#interactive) and [**interactive_output**](https://ipywidgets.readthedocs.io/en/latest/examples/Using%20Interact.html#more-control-over-the-user-interface-interactive-output).\n",
    "\n"
   ]
  },
  {
   "cell_type": "markdown",
   "metadata": {},
   "source": [
    "**Here we are going to combine features with countplot and to represent it in a dashboard**"
   ]
  },
  {
   "cell_type": "code",
   "execution_count": 18,
   "metadata": {},
   "outputs": [
    {
     "data": {
      "application/vnd.jupyter.widget-view+json": {
       "model_id": "dccd26a0faee4611ad942be88d724fef",
       "version_major": 2,
       "version_minor": 0
      },
      "text/plain": [
       "HBox(children=(Dropdown(description='Y Variable:', options=('Age', 'Gender', 'Education', 'MaritalStatus', 'Us…"
      ]
     },
     "metadata": {},
     "output_type": "display_data"
    },
    {
     "data": {
      "application/vnd.jupyter.widget-view+json": {
       "model_id": "81e6d6808cd946169c74d79c5aa95613",
       "version_major": 2,
       "version_minor": 0
      },
      "text/plain": [
       "Output()"
      ]
     },
     "metadata": {},
     "output_type": "display_data"
    }
   ],
   "source": [
    "# Creating a function to update the chart based on the selected feature\n",
    "def update_chart(y_variable):\n",
    "    plt.figure(figsize=(12, 8))\n",
    "    \n",
    "# Adding countplot graph\n",
    "    sns.countplot(x='Product', hue=y_variable, data=data)\n",
    "    \n",
    "    plt.title(f'{y_variable} Distribution by Product')\n",
    "    plt.xlabel('Product')\n",
    "    plt.ylabel('Count')\n",
    "    plt.legend(title=y_variable)\n",
    "    plt.show()\n",
    "\n",
    "# Get the variables for Y-axis (excluding 'Product' and 'Income')\n",
    "y_variables = [col for col in data.columns if col not in ['Product', 'Income']]\n",
    "\n",
    "# Adding the dropdown widget \n",
    "y_variable_dropdown = widgets.Dropdown(\n",
    "    options=y_variables,\n",
    "    value='Age',\n",
    "    description='Y Variable:'\n",
    ")\n",
    "\n",
    "\n",
    "# Defining the interactive output\n",
    "output = widgets.interactive_output(update_chart, {'y_variable': y_variable_dropdown})\n",
    "\n",
    "# Displaying the widgets\n",
    "display(widgets.HBox([y_variable_dropdown]))\n",
    "display(output)"
   ]
  },
  {
   "cell_type": "markdown",
   "metadata": {},
   "source": [
    "**Combining the slider wideget**"
   ]
  },
  {
   "cell_type": "code",
   "execution_count": 19,
   "metadata": {},
   "outputs": [
    {
     "data": {
      "application/vnd.jupyter.widget-view+json": {
       "model_id": "ce6145a9c61740c7a70b8118a8e20613",
       "version_major": 2,
       "version_minor": 0
      },
      "text/plain": [
       "HBox(children=(Dropdown(description='Y Variable:', options=('Age', 'Gender', 'Education', 'MaritalStatus', 'Us…"
      ]
     },
     "metadata": {},
     "output_type": "display_data"
    },
    {
     "data": {
      "application/vnd.jupyter.widget-view+json": {
       "model_id": "7824f506152a45fabad6d190d7626cf2",
       "version_major": 2,
       "version_minor": 0
      },
      "text/plain": [
       "Output()"
      ]
     },
     "metadata": {},
     "output_type": "display_data"
    }
   ],
   "source": [
    "def update_chart(y_variable, income_filter):\n",
    "    plt.figure(figsize=(12, 8))\n",
    "    \n",
    "    filtered_data = data[data['Income'] > income_filter]\n",
    "    \n",
    "    sns.countplot(x='Product', hue=y_variable, data=filtered_data)\n",
    "    \n",
    "    plt.title(f'{y_variable} Distribution by Product')\n",
    "    plt.xlabel('Product')\n",
    "    plt.ylabel('Count')\n",
    "    plt.legend(title=y_variable)\n",
    "    plt.show()\n",
    "\n",
    "y_variables = [col for col in data.columns if col not in ['Product', 'Income']]\n",
    "\n",
    "y_variable_dropdown = widgets.Dropdown(\n",
    "    options=y_variables,\n",
    "    value='Age',\n",
    "    description='Y Variable:'\n",
    ")\n",
    "\n",
    "# Adding the slider widget\n",
    "income_filter = widgets.FloatSlider(\n",
    "    value=data['Income'].min(),\n",
    "    min=data['Income'].min(),\n",
    "    max=data['Income'].max(),\n",
    "    step=1000,\n",
    "    description='Income Filter:'\n",
    ")\n",
    "\n",
    "output = widgets.interactive_output(update_chart, {'y_variable': y_variable_dropdown, 'income_filter': income_filter})\n",
    "\n",
    "# Displaying the widgets (Horizontally)\n",
    "display(widgets.HBox([y_variable_dropdown, income_filter]))\n",
    "display(output)\n"
   ]
  },
  {
   "cell_type": "markdown",
   "metadata": {},
   "source": [
    "**Changing widgets to a Vertically position**"
   ]
  },
  {
   "cell_type": "code",
   "execution_count": 22,
   "metadata": {},
   "outputs": [
    {
     "data": {
      "application/vnd.jupyter.widget-view+json": {
       "model_id": "6d918825f20b484688020eb74a1b2624",
       "version_major": 2,
       "version_minor": 0
      },
      "text/plain": [
       "VBox(children=(FloatSlider(value=29562.0, description='Income Filter:', max=104581.0, min=29562.0, step=1000.0…"
      ]
     },
     "metadata": {},
     "output_type": "display_data"
    },
    {
     "data": {
      "application/vnd.jupyter.widget-view+json": {
       "model_id": "e6c476fd1acd427c9983d885b82690c9",
       "version_major": 2,
       "version_minor": 0
      },
      "text/plain": [
       "Output()"
      ]
     },
     "metadata": {},
     "output_type": "display_data"
    }
   ],
   "source": [
    "def update_chart(y_variable, income_filter):\n",
    "    plt.figure(figsize=(12, 8))\n",
    "    \n",
    "\n",
    "    filtered_data = data[data['Income'] > income_filter]\n",
    "    \n",
    "\n",
    "    sns.countplot(x='Product', hue=y_variable, data=filtered_data)\n",
    "    \n",
    "    plt.title(f'{y_variable} Distribution by Product')\n",
    "    plt.xlabel('Product')\n",
    "    plt.ylabel('Count')\n",
    "    plt.legend(title=y_variable)\n",
    "    plt.show()\n",
    "\n",
    "\n",
    "    y_variables = [col for col in data.columns if col not in ['Product', 'Income']]\n",
    "\n",
    "\n",
    "y_variable_dropdown = widgets.Dropdown(\n",
    "    options=y_variables,\n",
    "    value='Age',\n",
    "    description='Y Variable:'\n",
    ")\n",
    "\n",
    "\n",
    "widgets.FloatSlider(\n",
    "    value=data['Income'].min(),\n",
    "    min=data['Income'].min(),\n",
    "    max=data['Income'].max(),\n",
    "    step=1000,\n",
    "    description='Income Filter:'\n",
    ")\n",
    "\n",
    "\n",
    "output = widgets.interactive_output(update_chart,{'y_variable': y_variable_dropdown, 'income_filter': income_filter})\n",
    "\n",
    "# Display the widgets (Vertically)\n",
    "display(widgets.VBox([income_filter, y_variable_dropdown])) #\n",
    "display(output)\n"
   ]
  },
  {
   "cell_type": "markdown",
   "metadata": {},
   "source": [
    "### Boolean Widget: Checkbox\n",
    "---\n",
    "True or False, yes or no, O or 1, etc.\n",
    "\n",
    "#### Checkbox\n",
    "- `value` True/False - Initial status.<br>\n",
    "- `description` String - What text will appear next to the checkbox.<br>\n",
    "- `disabled` True/False - If the checkbox can be interacted with.<br>\n",
    "&nbsp;&nbsp;&nbsp;&nbsp;*Why?* Perhaps another interactive option disables and enables checkboxes based on other options selected.<br>\n",
    "- `indent` True/False - Alignment with other controls.\n",
    "\n",
    "\n",
    "\n",
    "**Common errors:** Don't forget to connect your check/togglebox(es) state to the desired function! True / False need to be capitalized. <br>\n",
    "\n",
    "**Checkboxes in use:<br>**\n",
    "[Product Playbook](https://dash.gallery/product-playbook/) - Filtering <br>\n",
    "[Retail Demand Transference](https://dash.gallery/retail-demand-transference/) - Exporting selected data\n",
    "\n",
    "---"
   ]
  },
  {
   "cell_type": "markdown",
   "metadata": {},
   "source": [
    "\n",
    "### Checkbox Code:"
   ]
  },
  {
   "cell_type": "code",
   "execution_count": 16,
   "metadata": {},
   "outputs": [
    {
     "data": {
      "application/vnd.jupyter.widget-view+json": {
       "model_id": "6b99aa0ebbbd412dbe23ac7717b9c506",
       "version_major": 2,
       "version_minor": 0
      },
      "text/plain": [
       "Checkbox(value=False, description='Click here', indent=False, tooltip='This parameter is a lie and apparently …"
      ]
     },
     "execution_count": 16,
     "metadata": {},
     "output_type": "execute_result"
    }
   ],
   "source": [
    "# Here we're throwing the Checkbox widget into the variable checkbox so it can be easily called.\n",
    "\n",
    "checkbox = widgets.Checkbox(\n",
    "    value=False,\n",
    "    description=\"Click here\",\n",
    "    disabled=False,\n",
    "    indent=False,\n",
    "    tooltip=\"This parameter is a lie and apparently is bugged.\"\n",
    ")\n",
    "\n",
    "#Call\n",
    "checkbox"
   ]
  },
  {
   "cell_type": "markdown",
   "metadata": {},
   "source": [
    "**UX Note**: Added bonus of built in accessibility by allowing you to click on the description text to toggle it. Tiny hitboxes can be frustrating to \n",
    "deal with.\n",
    "\n",
    "[The Tooltip Bug](https://github.com/jupyter-widgets/ipywidgets/issues/3440) <-- When you're working with opensource frameworks/libraries, Github is a great place to find out what's actually a reproduceable bug.<br> \n",
    "\n",
    "Speaking of \"bugs\", let's test something out..."
   ]
  },
  {
   "cell_type": "code",
   "execution_count": null,
   "metadata": {},
   "outputs": [],
   "source": [
    "#Call the checkbox again. Click it and observe the one above, too.\n",
    "checkbox"
   ]
  },
  {
   "cell_type": "markdown",
   "metadata": {},
   "source": [
    "So why is *that* happening?"
   ]
  },
  {
   "cell_type": "markdown",
   "metadata": {},
   "source": [
    "### Multiple Checkboxes"
   ]
  },
  {
   "cell_type": "code",
   "execution_count": null,
   "metadata": {},
   "outputs": [],
   "source": [
    "checkboxes = []\n",
    "for i in range(5): \n",
    "    checkbox = widgets.Checkbox(\n",
    "        value=False,\n",
    "        description=f'Click here {i}',\n",
    "        indent=False\n",
    "    )\n",
    "    display(checkbox)\n",
    "    checkboxes.append(checkbox)\n",
    "\n",
    "#setting the variable as an empty list \n",
    "# interate through 5 times\n",
    "# a checkbox is made through each iteration\n",
    "# and added to the checkboxes list"
   ]
  },
  {
   "cell_type": "markdown",
   "metadata": {},
   "source": [
    "### End of presentation. We hope you've learned & enjoyed it :)"
   ]
  }
 ],
 "metadata": {
  "kernelspec": {
   "display_name": "Python 3 (ipykernel)",
   "language": "python",
   "name": "python3"
  },
  "language_info": {
   "codemirror_mode": {
    "name": "ipython",
    "version": 3
   },
   "file_extension": ".py",
   "mimetype": "text/x-python",
   "name": "python",
   "nbconvert_exporter": "python",
   "pygments_lexer": "ipython3",
   "version": "3.12.1"
  }
 },
 "nbformat": 4,
 "nbformat_minor": 4
}

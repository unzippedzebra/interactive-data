{
 "cells": [
  {
   "cell_type": "markdown",
   "id": "3521e3c5-c882-4aef-be1c-8fc41e74f5cf",
   "metadata": {},
   "source": [
    "![Pandas playing chess](chesspandas.png)\n",
    "## TidyChallenge\n",
    "with untidy data poking."
   ]
  },
  {
   "cell_type": "code",
   "execution_count": 48,
   "id": "db38fc7d-609d-4dc5-b10e-5bcbac60e1e5",
   "metadata": {},
   "outputs": [],
   "source": [
    "import pandas as pd\n",
    "import json\n",
    "import datetime"
   ]
  },
  {
   "cell_type": "code",
   "execution_count": 77,
   "id": "c416113d-45ee-474f-b2c8-10dbe5ea1c41",
   "metadata": {},
   "outputs": [],
   "source": [
    "with open(\"chessbuds_messages.json\") as j:\n",
    "   chessBuds = json.load(j)"
   ]
  },
  {
   "cell_type": "code",
   "execution_count": 4,
   "id": "620f3809-9993-4f9e-aa20-697d5f6d9804",
   "metadata": {},
   "outputs": [
    {
     "data": {
      "text/plain": [
       "dict_keys(['participants', 'messages', 'title', 'is_still_participant', 'thread_type', 'thread_path', 'magic_words', 'joinable_mode'])"
      ]
     },
     "execution_count": 4,
     "metadata": {},
     "output_type": "execute_result"
    }
   ],
   "source": [
    "chessBuds.keys()"
   ]
  },
  {
   "cell_type": "code",
   "execution_count": 8,
   "id": "446c3942-bb3d-4d52-b2f3-3acba48cee24",
   "metadata": {},
   "outputs": [
    {
     "data": {
      "text/plain": [
       "[]"
      ]
     },
     "execution_count": 8,
     "metadata": {},
     "output_type": "execute_result"
    }
   ],
   "source": [
    "chessBuds['magic_words']"
   ]
  },
  {
   "cell_type": "code",
   "execution_count": 31,
   "id": "9498d29c-4d65-48f9-918c-63e3e580e573",
   "metadata": {},
   "outputs": [
    {
     "data": {
      "text/plain": [
       "[{'sender_name': 'Joanna Rusch',\n",
       "  'timestamp_ms': 1666374933946,\n",
       "  'content': \"Maybe he just wants to ride the publicity for a bit longer, even if he doesn't get any money from the lawsuit. Like, I didn't know his name before this but I certainly do now.\",\n",
       "  'reactions': [{'reaction': 'ð\\x9f\\x91\\x8d', 'actor': 'Chad Larson'},\n",
       "   {'reaction': 'ð\\x9f\\x91\\x8d', 'actor': 'Chad Larson'}],\n",
       "  'type': 'Generic',\n",
       "  'is_unsent': False,\n",
       "  'is_taken_down': False,\n",
       "  'bumped_message_metadata': {'bumped_message': \"Maybe he just wants to ride the publicity for a bit longer, even if he doesn't get any money from the lawsuit. Like, I didn't know his name before this but I certainly do now.\",\n",
       "   'is_bumped': False}},\n",
       " {'sender_name': 'Chad Larson',\n",
       "  'timestamp_ms': 1666373448613,\n",
       "  'content': 'To be fair to Hans....no one wants to be associated with an \"anal bead\" theory.',\n",
       "  'reactions': [{'reaction': 'ð\\x9f\\x98\\x86', 'actor': 'Scott Pence'},\n",
       "   {'reaction': 'ð\\x9f\\x98\\x86', 'actor': 'Scott Pence'}],\n",
       "  'type': 'Generic',\n",
       "  'is_unsent': False,\n",
       "  'is_taken_down': False,\n",
       "  'bumped_message_metadata': {'bumped_message': 'To be fair to Hans....no one wants to be associated with an \"anal bead\" theory.',\n",
       "   'is_bumped': False}},\n",
       " {'sender_name': 'Chad Larson',\n",
       "  'timestamp_ms': 1666373216381,\n",
       "  'content': \"He would have to prove he didn't cheat and that they knew he didn't cheat....and made it all up.  That's not provable.\",\n",
       "  'reactions': [{'reaction': 'ð\\x9f\\x91\\x8d', 'actor': 'Scott Pence'},\n",
       "   {'reaction': 'ð\\x9f\\x91\\x8d', 'actor': 'Scott Pence'}],\n",
       "  'type': 'Generic',\n",
       "  'is_unsent': False,\n",
       "  'is_taken_down': False,\n",
       "  'bumped_message_metadata': {'bumped_message': \"He would have to prove he didn't cheat and that they knew he didn't cheat....and made it all up.  That's not provable.\",\n",
       "   'is_bumped': False}}]"
      ]
     },
     "execution_count": 31,
     "metadata": {},
     "output_type": "execute_result"
    }
   ],
   "source": [
    "chessBuds['messages'][0:3]"
   ]
  },
  {
   "cell_type": "code",
   "execution_count": 15,
   "id": "24ae16cd-0b25-44de-a256-59438948906e",
   "metadata": {},
   "outputs": [
    {
     "data": {
      "text/plain": [
       "dict_keys(['sender_name', 'timestamp_ms', 'content', 'reactions', 'type', 'is_unsent', 'is_taken_down', 'bumped_message_metadata'])"
      ]
     },
     "execution_count": 15,
     "metadata": {},
     "output_type": "execute_result"
    }
   ],
   "source": [
    "chessBuds['messages'][0].keys()"
   ]
  },
  {
   "cell_type": "code",
   "execution_count": 22,
   "id": "78ea2bf8-1a19-486a-a517-9f9bef4dfad4",
   "metadata": {},
   "outputs": [
    {
     "data": {
      "text/plain": [
       "\"He would have to prove he didn't cheat and that they knew he didn't cheat....and made it all up.  That's not provable.\""
      ]
     },
     "execution_count": 22,
     "metadata": {},
     "output_type": "execute_result"
    }
   ],
   "source": [
    "chessBuds['messages'][2]['content']"
   ]
  },
  {
   "cell_type": "code",
   "execution_count": 25,
   "id": "c08275f4-260e-4c5f-8010-5e192696bdce",
   "metadata": {},
   "outputs": [
    {
     "data": {
      "text/plain": [
       "{'sender_name': 'Chad Larson',\n",
       " 'timestamp_ms': 1666373216381,\n",
       " 'content': \"He would have to prove he didn't cheat and that they knew he didn't cheat....and made it all up.  That's not provable.\",\n",
       " 'reactions': [{'reaction': 'ð\\x9f\\x91\\x8d', 'actor': 'Scott Pence'},\n",
       "  {'reaction': 'ð\\x9f\\x91\\x8d', 'actor': 'Scott Pence'}],\n",
       " 'type': 'Generic',\n",
       " 'is_unsent': False,\n",
       " 'is_taken_down': False,\n",
       " 'bumped_message_metadata': {'bumped_message': \"He would have to prove he didn't cheat and that they knew he didn't cheat....and made it all up.  That's not provable.\",\n",
       "  'is_bumped': False}}"
      ]
     },
     "execution_count": 25,
     "metadata": {},
     "output_type": "execute_result"
    }
   ],
   "source": [
    "chessBuds['messages'][2]"
   ]
  },
  {
   "cell_type": "code",
   "execution_count": 27,
   "id": "2ad0892e-58b5-49d5-9ee7-92d63748477e",
   "metadata": {},
   "outputs": [
    {
     "data": {
      "text/plain": [
       "'RegularGroup'"
      ]
     },
     "execution_count": 27,
     "metadata": {},
     "output_type": "execute_result"
    }
   ],
   "source": [
    "chessBuds['thread_type']"
   ]
  },
  {
   "cell_type": "code",
   "execution_count": 78,
   "id": "a4616130-0bc4-4d0a-b8ea-f007749915a0",
   "metadata": {},
   "outputs": [],
   "source": [
    "chessbuds_df = pd.json_normalize(chessBuds, record_path=['messages'])"
   ]
  },
  {
   "cell_type": "markdown",
   "id": "103646c3-3804-4c40-8fe5-1a868b35510f",
   "metadata": {},
   "source": [
    "- [All Pandas json_normalize() you should know for flattening JSON](https://towardsdatascience.com/all-pandas-json-normalize-you-should-know-for-flattening-json-13eae1dfb7dd)\n",
    "noticed json_normalize in the documentation. I'm not sure if this did anything wildly different than pd.DataFrame(chessBuds['messages']) but ¯\\\\\\_(ツ)_/¯"
   ]
  },
  {
   "cell_type": "code",
   "execution_count": 45,
   "id": "78b45abe-4152-4bbe-9bd2-d30dde5de16d",
   "metadata": {},
   "outputs": [
    {
     "data": {
      "text/html": [
       "<div>\n",
       "<style scoped>\n",
       "    .dataframe tbody tr th:only-of-type {\n",
       "        vertical-align: middle;\n",
       "    }\n",
       "\n",
       "    .dataframe tbody tr th {\n",
       "        vertical-align: top;\n",
       "    }\n",
       "\n",
       "    .dataframe thead th {\n",
       "        text-align: right;\n",
       "    }\n",
       "</style>\n",
       "<table border=\"1\" class=\"dataframe\">\n",
       "  <thead>\n",
       "    <tr style=\"text-align: right;\">\n",
       "      <th></th>\n",
       "      <th>sender_name</th>\n",
       "      <th>timestamp_ms</th>\n",
       "      <th>content</th>\n",
       "      <th>reactions</th>\n",
       "      <th>type</th>\n",
       "      <th>is_unsent</th>\n",
       "      <th>is_taken_down</th>\n",
       "      <th>bumped_message_metadata.bumped_message</th>\n",
       "      <th>bumped_message_metadata.is_bumped</th>\n",
       "      <th>share.link</th>\n",
       "      <th>photos</th>\n",
       "      <th>gifs</th>\n",
       "      <th>users</th>\n",
       "    </tr>\n",
       "  </thead>\n",
       "  <tbody>\n",
       "    <tr>\n",
       "      <th>0</th>\n",
       "      <td>Joanna Rusch</td>\n",
       "      <td>1666374933946</td>\n",
       "      <td>Maybe he just wants to ride the publicity for ...</td>\n",
       "      <td>[{'reaction': 'ð', 'actor': 'Chad Larson'},...</td>\n",
       "      <td>Generic</td>\n",
       "      <td>False</td>\n",
       "      <td>False</td>\n",
       "      <td>Maybe he just wants to ride the publicity for ...</td>\n",
       "      <td>False</td>\n",
       "      <td>NaN</td>\n",
       "      <td>NaN</td>\n",
       "      <td>NaN</td>\n",
       "      <td>NaN</td>\n",
       "    </tr>\n",
       "    <tr>\n",
       "      <th>1</th>\n",
       "      <td>Chad Larson</td>\n",
       "      <td>1666373448613</td>\n",
       "      <td>To be fair to Hans....no one wants to be assoc...</td>\n",
       "      <td>[{'reaction': 'ð', 'actor': 'Scott Pence'},...</td>\n",
       "      <td>Generic</td>\n",
       "      <td>False</td>\n",
       "      <td>False</td>\n",
       "      <td>To be fair to Hans....no one wants to be assoc...</td>\n",
       "      <td>False</td>\n",
       "      <td>NaN</td>\n",
       "      <td>NaN</td>\n",
       "      <td>NaN</td>\n",
       "      <td>NaN</td>\n",
       "    </tr>\n",
       "    <tr>\n",
       "      <th>2</th>\n",
       "      <td>Chad Larson</td>\n",
       "      <td>1666373216381</td>\n",
       "      <td>He would have to prove he didn't cheat and tha...</td>\n",
       "      <td>[{'reaction': 'ð', 'actor': 'Scott Pence'},...</td>\n",
       "      <td>Generic</td>\n",
       "      <td>False</td>\n",
       "      <td>False</td>\n",
       "      <td>He would have to prove he didn't cheat and tha...</td>\n",
       "      <td>False</td>\n",
       "      <td>NaN</td>\n",
       "      <td>NaN</td>\n",
       "      <td>NaN</td>\n",
       "      <td>NaN</td>\n",
       "    </tr>\n",
       "    <tr>\n",
       "      <th>3</th>\n",
       "      <td>Scott Pence</td>\n",
       "      <td>1666373164883</td>\n",
       "      <td>Yeah, no way. You over shoot and hope to get a...</td>\n",
       "      <td>[{'reaction': 'ð', 'actor': 'Chad Larson'},...</td>\n",
       "      <td>Generic</td>\n",
       "      <td>False</td>\n",
       "      <td>False</td>\n",
       "      <td>Yeah, no way. You over shoot and hope to get a...</td>\n",
       "      <td>False</td>\n",
       "      <td>NaN</td>\n",
       "      <td>NaN</td>\n",
       "      <td>NaN</td>\n",
       "      <td>NaN</td>\n",
       "    </tr>\n",
       "    <tr>\n",
       "      <th>4</th>\n",
       "      <td>Chad Larson</td>\n",
       "      <td>1666373111157</td>\n",
       "      <td>From what I see, I don't think he could win.  ...</td>\n",
       "      <td>NaN</td>\n",
       "      <td>Generic</td>\n",
       "      <td>False</td>\n",
       "      <td>False</td>\n",
       "      <td>From what I see, I don't think he could win.  ...</td>\n",
       "      <td>False</td>\n",
       "      <td>NaN</td>\n",
       "      <td>NaN</td>\n",
       "      <td>NaN</td>\n",
       "      <td>NaN</td>\n",
       "    </tr>\n",
       "  </tbody>\n",
       "</table>\n",
       "</div>"
      ],
      "text/plain": [
       "    sender_name   timestamp_ms  \\\n",
       "0  Joanna Rusch  1666374933946   \n",
       "1   Chad Larson  1666373448613   \n",
       "2   Chad Larson  1666373216381   \n",
       "3   Scott Pence  1666373164883   \n",
       "4   Chad Larson  1666373111157   \n",
       "\n",
       "                                             content  \\\n",
       "0  Maybe he just wants to ride the publicity for ...   \n",
       "1  To be fair to Hans....no one wants to be assoc...   \n",
       "2  He would have to prove he didn't cheat and tha...   \n",
       "3  Yeah, no way. You over shoot and hope to get a...   \n",
       "4  From what I see, I don't think he could win.  ...   \n",
       "\n",
       "                                           reactions     type  is_unsent  \\\n",
       "0  [{'reaction': 'ð', 'actor': 'Chad Larson'},...  Generic      False   \n",
       "1  [{'reaction': 'ð', 'actor': 'Scott Pence'},...  Generic      False   \n",
       "2  [{'reaction': 'ð', 'actor': 'Scott Pence'},...  Generic      False   \n",
       "3  [{'reaction': 'ð', 'actor': 'Chad Larson'},...  Generic      False   \n",
       "4                                                NaN  Generic      False   \n",
       "\n",
       "   is_taken_down             bumped_message_metadata.bumped_message  \\\n",
       "0          False  Maybe he just wants to ride the publicity for ...   \n",
       "1          False  To be fair to Hans....no one wants to be assoc...   \n",
       "2          False  He would have to prove he didn't cheat and tha...   \n",
       "3          False  Yeah, no way. You over shoot and hope to get a...   \n",
       "4          False  From what I see, I don't think he could win.  ...   \n",
       "\n",
       "   bumped_message_metadata.is_bumped share.link photos gifs users  \n",
       "0                              False        NaN    NaN  NaN   NaN  \n",
       "1                              False        NaN    NaN  NaN   NaN  \n",
       "2                              False        NaN    NaN  NaN   NaN  \n",
       "3                              False        NaN    NaN  NaN   NaN  \n",
       "4                              False        NaN    NaN  NaN   NaN  "
      ]
     },
     "execution_count": 45,
     "metadata": {},
     "output_type": "execute_result"
    }
   ],
   "source": [
    "chessbuds_df.head()\n",
    "                    "
   ]
  },
  {
   "cell_type": "markdown",
   "id": "698f9eb4-ae82-4019-9202-e538e53f9958",
   "metadata": {},
   "source": [
    "observation of message ^ tidy reactions due to being multiple things"
   ]
  },
  {
   "cell_type": "code",
   "execution_count": 34,
   "id": "7b4af169-32ce-46a3-b250-84f3ed44be39",
   "metadata": {},
   "outputs": [
    {
     "data": {
      "text/plain": [
       "[{'reaction': 'ð\\x9f\\x91\\x8d', 'actor': 'Chad Larson'},\n",
       " {'reaction': 'ð\\x9f\\x91\\x8d', 'actor': 'Chad Larson'}]"
      ]
     },
     "execution_count": 34,
     "metadata": {},
     "output_type": "execute_result"
    }
   ],
   "source": [
    "chess_df['reactions'].iloc[0]"
   ]
  },
  {
   "cell_type": "markdown",
   "id": "fc20bc86-b004-47d6-b873-ef4e62d01f4d",
   "metadata": {},
   "source": [
    "could make reactions most important thing (not recommended for this assignment tho)"
   ]
  },
  {
   "cell_type": "code",
   "execution_count": 35,
   "id": "dc9bb541-8d36-467a-b942-ea70901e6da5",
   "metadata": {},
   "outputs": [
    {
     "ename": "TypeError",
     "evalue": "object of type 'float' has no len()",
     "output_type": "error",
     "traceback": [
      "\u001b[0;31m---------------------------------------------------------------------------\u001b[0m",
      "\u001b[0;31mTypeError\u001b[0m                                 Traceback (most recent call last)",
      "Cell \u001b[0;32mIn[35], line 1\u001b[0m\n\u001b[0;32m----> 1\u001b[0m num_reactions \u001b[38;5;241m=\u001b[39m [\u001b[38;5;28;43mlen\u001b[39;49m\u001b[43m(\u001b[49m\u001b[43mx\u001b[49m\u001b[43m)\u001b[49m \u001b[38;5;28;01mfor\u001b[39;00m x \u001b[38;5;129;01min\u001b[39;00m chess_df[\u001b[38;5;124m'\u001b[39m\u001b[38;5;124mreactions\u001b[39m\u001b[38;5;124m'\u001b[39m]]\n",
      "\u001b[0;31mTypeError\u001b[0m: object of type 'float' has no len()"
     ]
    }
   ],
   "source": [
    "num_reactions = [len(x) for x in chess_df['reactions']]"
   ]
  },
  {
   "cell_type": "markdown",
   "id": "58527a4b-2dfd-4435-b083-30f426f42103",
   "metadata": {},
   "source": [
    "**extra point for fixing this error**\n",
    "\n",
    "chess_df['reactions'] = chess_df['reactions'].fillna(0) then run num_reactions?"
   ]
  },
  {
   "cell_type": "code",
   "execution_count": 62,
   "id": "40fe86fb-a73c-4dba-b4ee-d578ff569b9a",
   "metadata": {},
   "outputs": [
    {
     "data": {
      "text/plain": [
       "pandas._libs.tslibs.timestamps.Timestamp"
      ]
     },
     "execution_count": 62,
     "metadata": {},
     "output_type": "execute_result"
    }
   ],
   "source": [
    "type(chessbuds_df['timestamp_ms'][0])"
   ]
  },
  {
   "cell_type": "code",
   "execution_count": 79,
   "id": "be32c8fe-b8d4-41ca-a305-7b634c431d73",
   "metadata": {
    "scrolled": true
   },
   "outputs": [],
   "source": [
    "chessbuds_df['timestamp_ms'] = pd.to_datetime(chessbuds_df['timestamp_ms'], unit = \"ms\").dt.strftime('%Y-%m-%d %H:%M:%S')"
   ]
  },
  {
   "cell_type": "code",
   "execution_count": 81,
   "id": "7aa98d64-663c-43ad-9c75-22ebbd88bb69",
   "metadata": {},
   "outputs": [
    {
     "data": {
      "text/html": [
       "<div>\n",
       "<style scoped>\n",
       "    .dataframe tbody tr th:only-of-type {\n",
       "        vertical-align: middle;\n",
       "    }\n",
       "\n",
       "    .dataframe tbody tr th {\n",
       "        vertical-align: top;\n",
       "    }\n",
       "\n",
       "    .dataframe thead th {\n",
       "        text-align: right;\n",
       "    }\n",
       "</style>\n",
       "<table border=\"1\" class=\"dataframe\">\n",
       "  <thead>\n",
       "    <tr style=\"text-align: right;\">\n",
       "      <th></th>\n",
       "      <th>sender_name</th>\n",
       "      <th>timestamp_ms</th>\n",
       "      <th>content</th>\n",
       "      <th>reactions</th>\n",
       "      <th>type</th>\n",
       "      <th>is_unsent</th>\n",
       "      <th>is_taken_down</th>\n",
       "      <th>bumped_message_metadata.bumped_message</th>\n",
       "      <th>bumped_message_metadata.is_bumped</th>\n",
       "      <th>share.link</th>\n",
       "      <th>photos</th>\n",
       "      <th>gifs</th>\n",
       "      <th>users</th>\n",
       "    </tr>\n",
       "  </thead>\n",
       "  <tbody>\n",
       "    <tr>\n",
       "      <th>0</th>\n",
       "      <td>Joanna Rusch</td>\n",
       "      <td>2022-10-21 17:55:33</td>\n",
       "      <td>Maybe he just wants to ride the publicity for ...</td>\n",
       "      <td>[{'reaction': 'ð', 'actor': 'Chad Larson'},...</td>\n",
       "      <td>Generic</td>\n",
       "      <td>False</td>\n",
       "      <td>False</td>\n",
       "      <td>Maybe he just wants to ride the publicity for ...</td>\n",
       "      <td>False</td>\n",
       "      <td>NaN</td>\n",
       "      <td>NaN</td>\n",
       "      <td>NaN</td>\n",
       "      <td>NaN</td>\n",
       "    </tr>\n",
       "    <tr>\n",
       "      <th>1</th>\n",
       "      <td>Chad Larson</td>\n",
       "      <td>2022-10-21 17:30:48</td>\n",
       "      <td>To be fair to Hans....no one wants to be assoc...</td>\n",
       "      <td>[{'reaction': 'ð', 'actor': 'Scott Pence'},...</td>\n",
       "      <td>Generic</td>\n",
       "      <td>False</td>\n",
       "      <td>False</td>\n",
       "      <td>To be fair to Hans....no one wants to be assoc...</td>\n",
       "      <td>False</td>\n",
       "      <td>NaN</td>\n",
       "      <td>NaN</td>\n",
       "      <td>NaN</td>\n",
       "      <td>NaN</td>\n",
       "    </tr>\n",
       "    <tr>\n",
       "      <th>2</th>\n",
       "      <td>Chad Larson</td>\n",
       "      <td>2022-10-21 17:26:56</td>\n",
       "      <td>He would have to prove he didn't cheat and tha...</td>\n",
       "      <td>[{'reaction': 'ð', 'actor': 'Scott Pence'},...</td>\n",
       "      <td>Generic</td>\n",
       "      <td>False</td>\n",
       "      <td>False</td>\n",
       "      <td>He would have to prove he didn't cheat and tha...</td>\n",
       "      <td>False</td>\n",
       "      <td>NaN</td>\n",
       "      <td>NaN</td>\n",
       "      <td>NaN</td>\n",
       "      <td>NaN</td>\n",
       "    </tr>\n",
       "    <tr>\n",
       "      <th>3</th>\n",
       "      <td>Scott Pence</td>\n",
       "      <td>2022-10-21 17:26:04</td>\n",
       "      <td>Yeah, no way. You over shoot and hope to get a...</td>\n",
       "      <td>[{'reaction': 'ð', 'actor': 'Chad Larson'},...</td>\n",
       "      <td>Generic</td>\n",
       "      <td>False</td>\n",
       "      <td>False</td>\n",
       "      <td>Yeah, no way. You over shoot and hope to get a...</td>\n",
       "      <td>False</td>\n",
       "      <td>NaN</td>\n",
       "      <td>NaN</td>\n",
       "      <td>NaN</td>\n",
       "      <td>NaN</td>\n",
       "    </tr>\n",
       "    <tr>\n",
       "      <th>4</th>\n",
       "      <td>Chad Larson</td>\n",
       "      <td>2022-10-21 17:25:11</td>\n",
       "      <td>From what I see, I don't think he could win.  ...</td>\n",
       "      <td>NaN</td>\n",
       "      <td>Generic</td>\n",
       "      <td>False</td>\n",
       "      <td>False</td>\n",
       "      <td>From what I see, I don't think he could win.  ...</td>\n",
       "      <td>False</td>\n",
       "      <td>NaN</td>\n",
       "      <td>NaN</td>\n",
       "      <td>NaN</td>\n",
       "      <td>NaN</td>\n",
       "    </tr>\n",
       "  </tbody>\n",
       "</table>\n",
       "</div>"
      ],
      "text/plain": [
       "    sender_name         timestamp_ms  \\\n",
       "0  Joanna Rusch  2022-10-21 17:55:33   \n",
       "1   Chad Larson  2022-10-21 17:30:48   \n",
       "2   Chad Larson  2022-10-21 17:26:56   \n",
       "3   Scott Pence  2022-10-21 17:26:04   \n",
       "4   Chad Larson  2022-10-21 17:25:11   \n",
       "\n",
       "                                             content  \\\n",
       "0  Maybe he just wants to ride the publicity for ...   \n",
       "1  To be fair to Hans....no one wants to be assoc...   \n",
       "2  He would have to prove he didn't cheat and tha...   \n",
       "3  Yeah, no way. You over shoot and hope to get a...   \n",
       "4  From what I see, I don't think he could win.  ...   \n",
       "\n",
       "                                           reactions     type  is_unsent  \\\n",
       "0  [{'reaction': 'ð', 'actor': 'Chad Larson'},...  Generic      False   \n",
       "1  [{'reaction': 'ð', 'actor': 'Scott Pence'},...  Generic      False   \n",
       "2  [{'reaction': 'ð', 'actor': 'Scott Pence'},...  Generic      False   \n",
       "3  [{'reaction': 'ð', 'actor': 'Chad Larson'},...  Generic      False   \n",
       "4                                                NaN  Generic      False   \n",
       "\n",
       "   is_taken_down             bumped_message_metadata.bumped_message  \\\n",
       "0          False  Maybe he just wants to ride the publicity for ...   \n",
       "1          False  To be fair to Hans....no one wants to be assoc...   \n",
       "2          False  He would have to prove he didn't cheat and tha...   \n",
       "3          False  Yeah, no way. You over shoot and hope to get a...   \n",
       "4          False  From what I see, I don't think he could win.  ...   \n",
       "\n",
       "   bumped_message_metadata.is_bumped share.link photos gifs users  \n",
       "0                              False        NaN    NaN  NaN   NaN  \n",
       "1                              False        NaN    NaN  NaN   NaN  \n",
       "2                              False        NaN    NaN  NaN   NaN  \n",
       "3                              False        NaN    NaN  NaN   NaN  \n",
       "4                              False        NaN    NaN  NaN   NaN  "
      ]
     },
     "execution_count": 81,
     "metadata": {},
     "output_type": "execute_result"
    }
   ],
   "source": [
    "chessbuds_df.head()"
   ]
  },
  {
   "cell_type": "code",
   "execution_count": 98,
   "id": "dddd6a9d-cb29-4d82-8d20-672b130d2411",
   "metadata": {
    "scrolled": true
   },
   "outputs": [],
   "source": [
    "tidy_df = chessbuds_df.rename(columns = {'timestamp_ms': 'Timestamps'}) "
   ]
  },
  {
   "cell_type": "code",
   "execution_count": 83,
   "id": "a310c42a-8972-45a6-8f73-1082be6813f3",
   "metadata": {},
   "outputs": [
    {
     "data": {
      "text/plain": [
       "False"
      ]
     },
     "execution_count": 83,
     "metadata": {},
     "output_type": "execute_result"
    }
   ],
   "source": [
    "isTrue = chessbuds_df['is_unsent'].any()\n",
    "isTrue"
   ]
  },
  {
   "cell_type": "code",
   "execution_count": 84,
   "id": "41827b30-d598-43a7-9e18-613590f41590",
   "metadata": {},
   "outputs": [
    {
     "data": {
      "text/plain": [
       "False"
      ]
     },
     "execution_count": 84,
     "metadata": {},
     "output_type": "execute_result"
    }
   ],
   "source": [
    "isTrue = chessbuds_df['is_taken_down'].any()\n",
    "isTrue"
   ]
  },
  {
   "cell_type": "code",
   "execution_count": 85,
   "id": "40dc7f6f-edef-4fe5-ba39-15fca14df015",
   "metadata": {},
   "outputs": [
    {
     "data": {
      "text/plain": [
       "False"
      ]
     },
     "execution_count": 85,
     "metadata": {},
     "output_type": "execute_result"
    }
   ],
   "source": [
    "isTrue = chessbuds_df['bumped_message_metadata.is_bumped'].any()\n",
    "isTrue"
   ]
  },
  {
   "cell_type": "code",
   "execution_count": 89,
   "id": "84f224c2-e3f0-4b7d-a722-92bb0d0cba8c",
   "metadata": {},
   "outputs": [
    {
     "data": {
      "text/plain": [
       "True"
      ]
     },
     "execution_count": 89,
     "metadata": {},
     "output_type": "execute_result"
    }
   ],
   "source": [
    "notNaN = chessbuds_df['share.link'].notna().any()\n",
    "notNaN"
   ]
  },
  {
   "cell_type": "code",
   "execution_count": 90,
   "id": "f06f1e0d-2e3a-4634-bb43-df0ce5b9302f",
   "metadata": {},
   "outputs": [
    {
     "data": {
      "text/plain": [
       "True"
      ]
     },
     "execution_count": 90,
     "metadata": {},
     "output_type": "execute_result"
    }
   ],
   "source": [
    "notNaN = chessbuds_df['photos'].notna().any()\n",
    "notNaN"
   ]
  },
  {
   "cell_type": "code",
   "execution_count": 91,
   "id": "8852c39a-3254-45a2-85d0-dcdf991a59c1",
   "metadata": {},
   "outputs": [
    {
     "data": {
      "text/plain": [
       "True"
      ]
     },
     "execution_count": 91,
     "metadata": {},
     "output_type": "execute_result"
    }
   ],
   "source": [
    "notNaN = chessbuds_df['users'].notna().any()\n",
    "notNaN"
   ]
  },
  {
   "cell_type": "code",
   "execution_count": 92,
   "id": "66f3a91e-d842-422c-befb-577705dfb227",
   "metadata": {},
   "outputs": [
    {
     "data": {
      "text/plain": [
       "0      False\n",
       "1      False\n",
       "2      False\n",
       "3      False\n",
       "4      False\n",
       "       ...  \n",
       "218    False\n",
       "219    False\n",
       "220     True\n",
       "221    False\n",
       "222    False\n",
       "Name: users, Length: 223, dtype: bool"
      ]
     },
     "execution_count": 92,
     "metadata": {},
     "output_type": "execute_result"
    }
   ],
   "source": [
    "chessbuds_df['users'].notna()"
   ]
  },
  {
   "cell_type": "code",
   "execution_count": 114,
   "id": "95d3c861-63ea-4165-9028-ffd9e4a293ae",
   "metadata": {},
   "outputs": [],
   "source": [
    "tidy_df = chessbuds_df.drop(columns = ['is_unsent', 'is_taken_down', 'bumped_message_metadata.is_bumped', 'bumped_message_metadata.bumped_message'])\n",
    "tidy_df = tidy_df.rename(columns = {'sender_name' : 'Sender', 'content' : 'Message', 'reactions' : 'Reactions', 'type' : 'Type', 'timestamp_ms' : 'Timestamps'})"
   ]
  },
  {
   "cell_type": "code",
   "execution_count": 115,
   "id": "39760d43-b95e-45c5-8ae7-f99d65b7187a",
   "metadata": {},
   "outputs": [
    {
     "data": {
      "text/html": [
       "<div>\n",
       "<style scoped>\n",
       "    .dataframe tbody tr th:only-of-type {\n",
       "        vertical-align: middle;\n",
       "    }\n",
       "\n",
       "    .dataframe tbody tr th {\n",
       "        vertical-align: top;\n",
       "    }\n",
       "\n",
       "    .dataframe thead th {\n",
       "        text-align: right;\n",
       "    }\n",
       "</style>\n",
       "<table border=\"1\" class=\"dataframe\">\n",
       "  <thead>\n",
       "    <tr style=\"text-align: right;\">\n",
       "      <th></th>\n",
       "      <th>Sender</th>\n",
       "      <th>Timestamps</th>\n",
       "      <th>Message</th>\n",
       "      <th>Reactions</th>\n",
       "      <th>Type</th>\n",
       "      <th>share.link</th>\n",
       "      <th>photos</th>\n",
       "      <th>gifs</th>\n",
       "      <th>users</th>\n",
       "    </tr>\n",
       "  </thead>\n",
       "  <tbody>\n",
       "    <tr>\n",
       "      <th>0</th>\n",
       "      <td>Joanna Rusch</td>\n",
       "      <td>2022-10-21 17:55:33</td>\n",
       "      <td>Maybe he just wants to ride the publicity for ...</td>\n",
       "      <td>[{'reaction': 'ð', 'actor': 'Chad Larson'},...</td>\n",
       "      <td>Generic</td>\n",
       "      <td>NaN</td>\n",
       "      <td>NaN</td>\n",
       "      <td>NaN</td>\n",
       "      <td>NaN</td>\n",
       "    </tr>\n",
       "    <tr>\n",
       "      <th>1</th>\n",
       "      <td>Chad Larson</td>\n",
       "      <td>2022-10-21 17:30:48</td>\n",
       "      <td>To be fair to Hans....no one wants to be assoc...</td>\n",
       "      <td>[{'reaction': 'ð', 'actor': 'Scott Pence'},...</td>\n",
       "      <td>Generic</td>\n",
       "      <td>NaN</td>\n",
       "      <td>NaN</td>\n",
       "      <td>NaN</td>\n",
       "      <td>NaN</td>\n",
       "    </tr>\n",
       "    <tr>\n",
       "      <th>2</th>\n",
       "      <td>Chad Larson</td>\n",
       "      <td>2022-10-21 17:26:56</td>\n",
       "      <td>He would have to prove he didn't cheat and tha...</td>\n",
       "      <td>[{'reaction': 'ð', 'actor': 'Scott Pence'},...</td>\n",
       "      <td>Generic</td>\n",
       "      <td>NaN</td>\n",
       "      <td>NaN</td>\n",
       "      <td>NaN</td>\n",
       "      <td>NaN</td>\n",
       "    </tr>\n",
       "    <tr>\n",
       "      <th>3</th>\n",
       "      <td>Scott Pence</td>\n",
       "      <td>2022-10-21 17:26:04</td>\n",
       "      <td>Yeah, no way. You over shoot and hope to get a...</td>\n",
       "      <td>[{'reaction': 'ð', 'actor': 'Chad Larson'},...</td>\n",
       "      <td>Generic</td>\n",
       "      <td>NaN</td>\n",
       "      <td>NaN</td>\n",
       "      <td>NaN</td>\n",
       "      <td>NaN</td>\n",
       "    </tr>\n",
       "    <tr>\n",
       "      <th>4</th>\n",
       "      <td>Chad Larson</td>\n",
       "      <td>2022-10-21 17:25:11</td>\n",
       "      <td>From what I see, I don't think he could win.  ...</td>\n",
       "      <td>NaN</td>\n",
       "      <td>Generic</td>\n",
       "      <td>NaN</td>\n",
       "      <td>NaN</td>\n",
       "      <td>NaN</td>\n",
       "      <td>NaN</td>\n",
       "    </tr>\n",
       "  </tbody>\n",
       "</table>\n",
       "</div>"
      ],
      "text/plain": [
       "         Sender           Timestamps  \\\n",
       "0  Joanna Rusch  2022-10-21 17:55:33   \n",
       "1   Chad Larson  2022-10-21 17:30:48   \n",
       "2   Chad Larson  2022-10-21 17:26:56   \n",
       "3   Scott Pence  2022-10-21 17:26:04   \n",
       "4   Chad Larson  2022-10-21 17:25:11   \n",
       "\n",
       "                                             Message  \\\n",
       "0  Maybe he just wants to ride the publicity for ...   \n",
       "1  To be fair to Hans....no one wants to be assoc...   \n",
       "2  He would have to prove he didn't cheat and tha...   \n",
       "3  Yeah, no way. You over shoot and hope to get a...   \n",
       "4  From what I see, I don't think he could win.  ...   \n",
       "\n",
       "                                           Reactions     Type share.link  \\\n",
       "0  [{'reaction': 'ð', 'actor': 'Chad Larson'},...  Generic        NaN   \n",
       "1  [{'reaction': 'ð', 'actor': 'Scott Pence'},...  Generic        NaN   \n",
       "2  [{'reaction': 'ð', 'actor': 'Scott Pence'},...  Generic        NaN   \n",
       "3  [{'reaction': 'ð', 'actor': 'Chad Larson'},...  Generic        NaN   \n",
       "4                                                NaN  Generic        NaN   \n",
       "\n",
       "  photos gifs users  \n",
       "0    NaN  NaN   NaN  \n",
       "1    NaN  NaN   NaN  \n",
       "2    NaN  NaN   NaN  \n",
       "3    NaN  NaN   NaN  \n",
       "4    NaN  NaN   NaN  "
      ]
     },
     "execution_count": 115,
     "metadata": {},
     "output_type": "execute_result"
    }
   ],
   "source": [
    "tidy_df.head()"
   ]
  },
  {
   "cell_type": "code",
   "execution_count": 116,
   "id": "67e74dfb-aba2-4cf0-a7a7-3b9cff9fd8bc",
   "metadata": {},
   "outputs": [],
   "source": [
    "tidy_df['Reactions'] = tidy_df['Reactions'].notna()"
   ]
  },
  {
   "cell_type": "code",
   "execution_count": 117,
   "id": "9fb84184-cdb4-4511-aa0f-69de4ddaea32",
   "metadata": {},
   "outputs": [
    {
     "data": {
      "text/html": [
       "<div>\n",
       "<style scoped>\n",
       "    .dataframe tbody tr th:only-of-type {\n",
       "        vertical-align: middle;\n",
       "    }\n",
       "\n",
       "    .dataframe tbody tr th {\n",
       "        vertical-align: top;\n",
       "    }\n",
       "\n",
       "    .dataframe thead th {\n",
       "        text-align: right;\n",
       "    }\n",
       "</style>\n",
       "<table border=\"1\" class=\"dataframe\">\n",
       "  <thead>\n",
       "    <tr style=\"text-align: right;\">\n",
       "      <th></th>\n",
       "      <th>Sender</th>\n",
       "      <th>Timestamps</th>\n",
       "      <th>Message</th>\n",
       "      <th>Reactions</th>\n",
       "      <th>Type</th>\n",
       "      <th>share.link</th>\n",
       "      <th>photos</th>\n",
       "      <th>gifs</th>\n",
       "      <th>users</th>\n",
       "    </tr>\n",
       "  </thead>\n",
       "  <tbody>\n",
       "    <tr>\n",
       "      <th>0</th>\n",
       "      <td>Joanna Rusch</td>\n",
       "      <td>2022-10-21 17:55:33</td>\n",
       "      <td>Maybe he just wants to ride the publicity for ...</td>\n",
       "      <td>True</td>\n",
       "      <td>Generic</td>\n",
       "      <td>NaN</td>\n",
       "      <td>NaN</td>\n",
       "      <td>NaN</td>\n",
       "      <td>NaN</td>\n",
       "    </tr>\n",
       "    <tr>\n",
       "      <th>1</th>\n",
       "      <td>Chad Larson</td>\n",
       "      <td>2022-10-21 17:30:48</td>\n",
       "      <td>To be fair to Hans....no one wants to be assoc...</td>\n",
       "      <td>True</td>\n",
       "      <td>Generic</td>\n",
       "      <td>NaN</td>\n",
       "      <td>NaN</td>\n",
       "      <td>NaN</td>\n",
       "      <td>NaN</td>\n",
       "    </tr>\n",
       "    <tr>\n",
       "      <th>2</th>\n",
       "      <td>Chad Larson</td>\n",
       "      <td>2022-10-21 17:26:56</td>\n",
       "      <td>He would have to prove he didn't cheat and tha...</td>\n",
       "      <td>True</td>\n",
       "      <td>Generic</td>\n",
       "      <td>NaN</td>\n",
       "      <td>NaN</td>\n",
       "      <td>NaN</td>\n",
       "      <td>NaN</td>\n",
       "    </tr>\n",
       "    <tr>\n",
       "      <th>3</th>\n",
       "      <td>Scott Pence</td>\n",
       "      <td>2022-10-21 17:26:04</td>\n",
       "      <td>Yeah, no way. You over shoot and hope to get a...</td>\n",
       "      <td>True</td>\n",
       "      <td>Generic</td>\n",
       "      <td>NaN</td>\n",
       "      <td>NaN</td>\n",
       "      <td>NaN</td>\n",
       "      <td>NaN</td>\n",
       "    </tr>\n",
       "    <tr>\n",
       "      <th>4</th>\n",
       "      <td>Chad Larson</td>\n",
       "      <td>2022-10-21 17:25:11</td>\n",
       "      <td>From what I see, I don't think he could win.  ...</td>\n",
       "      <td>False</td>\n",
       "      <td>Generic</td>\n",
       "      <td>NaN</td>\n",
       "      <td>NaN</td>\n",
       "      <td>NaN</td>\n",
       "      <td>NaN</td>\n",
       "    </tr>\n",
       "  </tbody>\n",
       "</table>\n",
       "</div>"
      ],
      "text/plain": [
       "         Sender           Timestamps  \\\n",
       "0  Joanna Rusch  2022-10-21 17:55:33   \n",
       "1   Chad Larson  2022-10-21 17:30:48   \n",
       "2   Chad Larson  2022-10-21 17:26:56   \n",
       "3   Scott Pence  2022-10-21 17:26:04   \n",
       "4   Chad Larson  2022-10-21 17:25:11   \n",
       "\n",
       "                                             Message  Reactions     Type  \\\n",
       "0  Maybe he just wants to ride the publicity for ...       True  Generic   \n",
       "1  To be fair to Hans....no one wants to be assoc...       True  Generic   \n",
       "2  He would have to prove he didn't cheat and tha...       True  Generic   \n",
       "3  Yeah, no way. You over shoot and hope to get a...       True  Generic   \n",
       "4  From what I see, I don't think he could win.  ...      False  Generic   \n",
       "\n",
       "  share.link photos gifs users  \n",
       "0        NaN    NaN  NaN   NaN  \n",
       "1        NaN    NaN  NaN   NaN  \n",
       "2        NaN    NaN  NaN   NaN  \n",
       "3        NaN    NaN  NaN   NaN  \n",
       "4        NaN    NaN  NaN   NaN  "
      ]
     },
     "execution_count": 117,
     "metadata": {},
     "output_type": "execute_result"
    }
   ],
   "source": [
    "tidy_df.head()"
   ]
  },
  {
   "cell_type": "code",
   "execution_count": 134,
   "id": "d1190366-741d-4df5-be94-b6a4e7184c99",
   "metadata": {},
   "outputs": [],
   "source": [
    "tidy_df['photos'] = tidy_df['photos'].notna()\n",
    "tidy_df['gifs'] = tidy_df['gifs'].notna()\n",
    "tidy_df['users'] = tidy_df['users'].notna()\n",
    "tidy_df['share.link'] = tidy_df['share.link'].notna()"
   ]
  },
  {
   "cell_type": "code",
   "execution_count": 135,
   "id": "60216e18-d531-4f23-b545-ee547e288b4b",
   "metadata": {},
   "outputs": [
    {
     "data": {
      "text/html": [
       "<div>\n",
       "<style scoped>\n",
       "    .dataframe tbody tr th:only-of-type {\n",
       "        vertical-align: middle;\n",
       "    }\n",
       "\n",
       "    .dataframe tbody tr th {\n",
       "        vertical-align: top;\n",
       "    }\n",
       "\n",
       "    .dataframe thead th {\n",
       "        text-align: right;\n",
       "    }\n",
       "</style>\n",
       "<table border=\"1\" class=\"dataframe\">\n",
       "  <thead>\n",
       "    <tr style=\"text-align: right;\">\n",
       "      <th></th>\n",
       "      <th>Sender</th>\n",
       "      <th>Timestamps</th>\n",
       "      <th>Message</th>\n",
       "      <th>Reactions</th>\n",
       "      <th>Type</th>\n",
       "      <th>share.link</th>\n",
       "      <th>photos</th>\n",
       "      <th>gifs</th>\n",
       "      <th>users</th>\n",
       "    </tr>\n",
       "  </thead>\n",
       "  <tbody>\n",
       "    <tr>\n",
       "      <th>0</th>\n",
       "      <td>Joanna Rusch</td>\n",
       "      <td>2022-10-21 17:55:33</td>\n",
       "      <td>Maybe he just wants to ride the publicity for ...</td>\n",
       "      <td>True</td>\n",
       "      <td>Generic</td>\n",
       "      <td>True</td>\n",
       "      <td>True</td>\n",
       "      <td>True</td>\n",
       "      <td>True</td>\n",
       "    </tr>\n",
       "    <tr>\n",
       "      <th>1</th>\n",
       "      <td>Chad Larson</td>\n",
       "      <td>2022-10-21 17:30:48</td>\n",
       "      <td>To be fair to Hans....no one wants to be assoc...</td>\n",
       "      <td>True</td>\n",
       "      <td>Generic</td>\n",
       "      <td>True</td>\n",
       "      <td>True</td>\n",
       "      <td>True</td>\n",
       "      <td>True</td>\n",
       "    </tr>\n",
       "    <tr>\n",
       "      <th>2</th>\n",
       "      <td>Chad Larson</td>\n",
       "      <td>2022-10-21 17:26:56</td>\n",
       "      <td>He would have to prove he didn't cheat and tha...</td>\n",
       "      <td>True</td>\n",
       "      <td>Generic</td>\n",
       "      <td>True</td>\n",
       "      <td>True</td>\n",
       "      <td>True</td>\n",
       "      <td>True</td>\n",
       "    </tr>\n",
       "    <tr>\n",
       "      <th>3</th>\n",
       "      <td>Scott Pence</td>\n",
       "      <td>2022-10-21 17:26:04</td>\n",
       "      <td>Yeah, no way. You over shoot and hope to get a...</td>\n",
       "      <td>True</td>\n",
       "      <td>Generic</td>\n",
       "      <td>True</td>\n",
       "      <td>True</td>\n",
       "      <td>True</td>\n",
       "      <td>True</td>\n",
       "    </tr>\n",
       "    <tr>\n",
       "      <th>4</th>\n",
       "      <td>Chad Larson</td>\n",
       "      <td>2022-10-21 17:25:11</td>\n",
       "      <td>From what I see, I don't think he could win.  ...</td>\n",
       "      <td>False</td>\n",
       "      <td>Generic</td>\n",
       "      <td>True</td>\n",
       "      <td>True</td>\n",
       "      <td>True</td>\n",
       "      <td>True</td>\n",
       "    </tr>\n",
       "  </tbody>\n",
       "</table>\n",
       "</div>"
      ],
      "text/plain": [
       "         Sender           Timestamps  \\\n",
       "0  Joanna Rusch  2022-10-21 17:55:33   \n",
       "1   Chad Larson  2022-10-21 17:30:48   \n",
       "2   Chad Larson  2022-10-21 17:26:56   \n",
       "3   Scott Pence  2022-10-21 17:26:04   \n",
       "4   Chad Larson  2022-10-21 17:25:11   \n",
       "\n",
       "                                             Message  Reactions     Type  \\\n",
       "0  Maybe he just wants to ride the publicity for ...       True  Generic   \n",
       "1  To be fair to Hans....no one wants to be assoc...       True  Generic   \n",
       "2  He would have to prove he didn't cheat and tha...       True  Generic   \n",
       "3  Yeah, no way. You over shoot and hope to get a...       True  Generic   \n",
       "4  From what I see, I don't think he could win.  ...      False  Generic   \n",
       "\n",
       "   share.link  photos  gifs  users  \n",
       "0        True    True  True   True  \n",
       "1        True    True  True   True  \n",
       "2        True    True  True   True  \n",
       "3        True    True  True   True  \n",
       "4        True    True  True   True  "
      ]
     },
     "execution_count": 135,
     "metadata": {},
     "output_type": "execute_result"
    }
   ],
   "source": [
    "tidy_df.head()"
   ]
  },
  {
   "cell_type": "code",
   "execution_count": 136,
   "id": "8c12be2f-d743-4b2a-9e4d-7cb0ec42d559",
   "metadata": {},
   "outputs": [],
   "source": [
    "tidy_df['photos'] = -tidy_df['photos']"
   ]
  },
  {
   "cell_type": "code",
   "execution_count": 137,
   "id": "c9855cbf-642d-499d-9e95-94cf38bda495",
   "metadata": {},
   "outputs": [],
   "source": [
    "tidy_df['gifs'] = -tidy_df['gifs']"
   ]
  },
  {
   "cell_type": "code",
   "execution_count": 138,
   "id": "98a9a43a-0c0f-4be6-993e-1ddc953db893",
   "metadata": {},
   "outputs": [],
   "source": [
    "tidy_df['users'] = -tidy_df['users'] "
   ]
  },
  {
   "cell_type": "code",
   "execution_count": 139,
   "id": "e9848a02-2f0e-4e1d-a001-16014a10b95f",
   "metadata": {},
   "outputs": [],
   "source": [
    "tidy_df['share.link'] = -tidy_df['share.link']"
   ]
  },
  {
   "cell_type": "markdown",
   "id": "d9242261-e855-47f4-bfa2-afaa55400afd",
   "metadata": {},
   "source": [
    "Accidentally reran and switched the booleans qq"
   ]
  },
  {
   "cell_type": "code",
   "execution_count": 140,
   "id": "43b0df80-6a61-4c92-9f29-681445e1b93f",
   "metadata": {},
   "outputs": [
    {
     "data": {
      "text/html": [
       "<div>\n",
       "<style scoped>\n",
       "    .dataframe tbody tr th:only-of-type {\n",
       "        vertical-align: middle;\n",
       "    }\n",
       "\n",
       "    .dataframe tbody tr th {\n",
       "        vertical-align: top;\n",
       "    }\n",
       "\n",
       "    .dataframe thead th {\n",
       "        text-align: right;\n",
       "    }\n",
       "</style>\n",
       "<table border=\"1\" class=\"dataframe\">\n",
       "  <thead>\n",
       "    <tr style=\"text-align: right;\">\n",
       "      <th></th>\n",
       "      <th>Sender</th>\n",
       "      <th>Timestamps</th>\n",
       "      <th>Message</th>\n",
       "      <th>Reactions</th>\n",
       "      <th>Type</th>\n",
       "      <th>share.link</th>\n",
       "      <th>photos</th>\n",
       "      <th>gifs</th>\n",
       "      <th>users</th>\n",
       "    </tr>\n",
       "  </thead>\n",
       "  <tbody>\n",
       "    <tr>\n",
       "      <th>0</th>\n",
       "      <td>Joanna Rusch</td>\n",
       "      <td>2022-10-21 17:55:33</td>\n",
       "      <td>Maybe he just wants to ride the publicity for ...</td>\n",
       "      <td>True</td>\n",
       "      <td>Generic</td>\n",
       "      <td>False</td>\n",
       "      <td>False</td>\n",
       "      <td>False</td>\n",
       "      <td>False</td>\n",
       "    </tr>\n",
       "    <tr>\n",
       "      <th>1</th>\n",
       "      <td>Chad Larson</td>\n",
       "      <td>2022-10-21 17:30:48</td>\n",
       "      <td>To be fair to Hans....no one wants to be assoc...</td>\n",
       "      <td>True</td>\n",
       "      <td>Generic</td>\n",
       "      <td>False</td>\n",
       "      <td>False</td>\n",
       "      <td>False</td>\n",
       "      <td>False</td>\n",
       "    </tr>\n",
       "    <tr>\n",
       "      <th>2</th>\n",
       "      <td>Chad Larson</td>\n",
       "      <td>2022-10-21 17:26:56</td>\n",
       "      <td>He would have to prove he didn't cheat and tha...</td>\n",
       "      <td>True</td>\n",
       "      <td>Generic</td>\n",
       "      <td>False</td>\n",
       "      <td>False</td>\n",
       "      <td>False</td>\n",
       "      <td>False</td>\n",
       "    </tr>\n",
       "    <tr>\n",
       "      <th>3</th>\n",
       "      <td>Scott Pence</td>\n",
       "      <td>2022-10-21 17:26:04</td>\n",
       "      <td>Yeah, no way. You over shoot and hope to get a...</td>\n",
       "      <td>True</td>\n",
       "      <td>Generic</td>\n",
       "      <td>False</td>\n",
       "      <td>False</td>\n",
       "      <td>False</td>\n",
       "      <td>False</td>\n",
       "    </tr>\n",
       "    <tr>\n",
       "      <th>4</th>\n",
       "      <td>Chad Larson</td>\n",
       "      <td>2022-10-21 17:25:11</td>\n",
       "      <td>From what I see, I don't think he could win.  ...</td>\n",
       "      <td>False</td>\n",
       "      <td>Generic</td>\n",
       "      <td>False</td>\n",
       "      <td>False</td>\n",
       "      <td>False</td>\n",
       "      <td>False</td>\n",
       "    </tr>\n",
       "  </tbody>\n",
       "</table>\n",
       "</div>"
      ],
      "text/plain": [
       "         Sender           Timestamps  \\\n",
       "0  Joanna Rusch  2022-10-21 17:55:33   \n",
       "1   Chad Larson  2022-10-21 17:30:48   \n",
       "2   Chad Larson  2022-10-21 17:26:56   \n",
       "3   Scott Pence  2022-10-21 17:26:04   \n",
       "4   Chad Larson  2022-10-21 17:25:11   \n",
       "\n",
       "                                             Message  Reactions     Type  \\\n",
       "0  Maybe he just wants to ride the publicity for ...       True  Generic   \n",
       "1  To be fair to Hans....no one wants to be assoc...       True  Generic   \n",
       "2  He would have to prove he didn't cheat and tha...       True  Generic   \n",
       "3  Yeah, no way. You over shoot and hope to get a...       True  Generic   \n",
       "4  From what I see, I don't think he could win.  ...      False  Generic   \n",
       "\n",
       "   share.link  photos   gifs  users  \n",
       "0       False   False  False  False  \n",
       "1       False   False  False  False  \n",
       "2       False   False  False  False  \n",
       "3       False   False  False  False  \n",
       "4       False   False  False  False  "
      ]
     },
     "execution_count": 140,
     "metadata": {},
     "output_type": "execute_result"
    }
   ],
   "source": [
    "tidy_df.head()"
   ]
  },
  {
   "cell_type": "code",
   "execution_count": 141,
   "id": "858fdbc8-3ff2-4320-8f4d-8195de7ac08e",
   "metadata": {},
   "outputs": [],
   "source": [
    "tidy_df['Has Media'] = tidy_df['gifs'] | tidy_df['photos'] | tidy_df['share.link']"
   ]
  },
  {
   "cell_type": "markdown",
   "id": "e470c3ba-d0c4-4d9f-aada-848982a213d1",
   "metadata": {},
   "source": [
    "Combining boolean columns, save for users since it's not a media."
   ]
  },
  {
   "cell_type": "code",
   "execution_count": 142,
   "id": "8f15277a-841d-40f9-af1d-1ccfa845b9cd",
   "metadata": {},
   "outputs": [
    {
     "data": {
      "text/html": [
       "<div>\n",
       "<style scoped>\n",
       "    .dataframe tbody tr th:only-of-type {\n",
       "        vertical-align: middle;\n",
       "    }\n",
       "\n",
       "    .dataframe tbody tr th {\n",
       "        vertical-align: top;\n",
       "    }\n",
       "\n",
       "    .dataframe thead th {\n",
       "        text-align: right;\n",
       "    }\n",
       "</style>\n",
       "<table border=\"1\" class=\"dataframe\">\n",
       "  <thead>\n",
       "    <tr style=\"text-align: right;\">\n",
       "      <th></th>\n",
       "      <th>Sender</th>\n",
       "      <th>Timestamps</th>\n",
       "      <th>Message</th>\n",
       "      <th>Reactions</th>\n",
       "      <th>Type</th>\n",
       "      <th>share.link</th>\n",
       "      <th>photos</th>\n",
       "      <th>gifs</th>\n",
       "      <th>users</th>\n",
       "      <th>Has Media</th>\n",
       "    </tr>\n",
       "  </thead>\n",
       "  <tbody>\n",
       "    <tr>\n",
       "      <th>0</th>\n",
       "      <td>Joanna Rusch</td>\n",
       "      <td>2022-10-21 17:55:33</td>\n",
       "      <td>Maybe he just wants to ride the publicity for ...</td>\n",
       "      <td>True</td>\n",
       "      <td>Generic</td>\n",
       "      <td>False</td>\n",
       "      <td>False</td>\n",
       "      <td>False</td>\n",
       "      <td>False</td>\n",
       "      <td>False</td>\n",
       "    </tr>\n",
       "    <tr>\n",
       "      <th>1</th>\n",
       "      <td>Chad Larson</td>\n",
       "      <td>2022-10-21 17:30:48</td>\n",
       "      <td>To be fair to Hans....no one wants to be assoc...</td>\n",
       "      <td>True</td>\n",
       "      <td>Generic</td>\n",
       "      <td>False</td>\n",
       "      <td>False</td>\n",
       "      <td>False</td>\n",
       "      <td>False</td>\n",
       "      <td>False</td>\n",
       "    </tr>\n",
       "    <tr>\n",
       "      <th>2</th>\n",
       "      <td>Chad Larson</td>\n",
       "      <td>2022-10-21 17:26:56</td>\n",
       "      <td>He would have to prove he didn't cheat and tha...</td>\n",
       "      <td>True</td>\n",
       "      <td>Generic</td>\n",
       "      <td>False</td>\n",
       "      <td>False</td>\n",
       "      <td>False</td>\n",
       "      <td>False</td>\n",
       "      <td>False</td>\n",
       "    </tr>\n",
       "    <tr>\n",
       "      <th>3</th>\n",
       "      <td>Scott Pence</td>\n",
       "      <td>2022-10-21 17:26:04</td>\n",
       "      <td>Yeah, no way. You over shoot and hope to get a...</td>\n",
       "      <td>True</td>\n",
       "      <td>Generic</td>\n",
       "      <td>False</td>\n",
       "      <td>False</td>\n",
       "      <td>False</td>\n",
       "      <td>False</td>\n",
       "      <td>False</td>\n",
       "    </tr>\n",
       "    <tr>\n",
       "      <th>4</th>\n",
       "      <td>Chad Larson</td>\n",
       "      <td>2022-10-21 17:25:11</td>\n",
       "      <td>From what I see, I don't think he could win.  ...</td>\n",
       "      <td>False</td>\n",
       "      <td>Generic</td>\n",
       "      <td>False</td>\n",
       "      <td>False</td>\n",
       "      <td>False</td>\n",
       "      <td>False</td>\n",
       "      <td>False</td>\n",
       "    </tr>\n",
       "  </tbody>\n",
       "</table>\n",
       "</div>"
      ],
      "text/plain": [
       "         Sender           Timestamps  \\\n",
       "0  Joanna Rusch  2022-10-21 17:55:33   \n",
       "1   Chad Larson  2022-10-21 17:30:48   \n",
       "2   Chad Larson  2022-10-21 17:26:56   \n",
       "3   Scott Pence  2022-10-21 17:26:04   \n",
       "4   Chad Larson  2022-10-21 17:25:11   \n",
       "\n",
       "                                             Message  Reactions     Type  \\\n",
       "0  Maybe he just wants to ride the publicity for ...       True  Generic   \n",
       "1  To be fair to Hans....no one wants to be assoc...       True  Generic   \n",
       "2  He would have to prove he didn't cheat and tha...       True  Generic   \n",
       "3  Yeah, no way. You over shoot and hope to get a...       True  Generic   \n",
       "4  From what I see, I don't think he could win.  ...      False  Generic   \n",
       "\n",
       "   share.link  photos   gifs  users  Has Media  \n",
       "0       False   False  False  False      False  \n",
       "1       False   False  False  False      False  \n",
       "2       False   False  False  False      False  \n",
       "3       False   False  False  False      False  \n",
       "4       False   False  False  False      False  "
      ]
     },
     "execution_count": 142,
     "metadata": {},
     "output_type": "execute_result"
    }
   ],
   "source": [
    "tidy_df.head()"
   ]
  },
  {
   "cell_type": "code",
   "execution_count": 143,
   "id": "dcdd61c4-5516-45df-abbc-58fb2a244904",
   "metadata": {},
   "outputs": [],
   "source": [
    "tidy_df = tidy_df.drop(columns = ['share.link', 'photos', 'gifs'])"
   ]
  },
  {
   "cell_type": "code",
   "execution_count": 145,
   "id": "a1001bc9-8cd6-4b0b-878f-7c1b4809e6a7",
   "metadata": {},
   "outputs": [
    {
     "data": {
      "text/html": [
       "<div>\n",
       "<style scoped>\n",
       "    .dataframe tbody tr th:only-of-type {\n",
       "        vertical-align: middle;\n",
       "    }\n",
       "\n",
       "    .dataframe tbody tr th {\n",
       "        vertical-align: top;\n",
       "    }\n",
       "\n",
       "    .dataframe thead th {\n",
       "        text-align: right;\n",
       "    }\n",
       "</style>\n",
       "<table border=\"1\" class=\"dataframe\">\n",
       "  <thead>\n",
       "    <tr style=\"text-align: right;\">\n",
       "      <th></th>\n",
       "      <th>Sender</th>\n",
       "      <th>Timestamps</th>\n",
       "      <th>Message</th>\n",
       "      <th>Reactions</th>\n",
       "      <th>Type</th>\n",
       "      <th>users</th>\n",
       "      <th>Has Media</th>\n",
       "    </tr>\n",
       "  </thead>\n",
       "  <tbody>\n",
       "    <tr>\n",
       "      <th>0</th>\n",
       "      <td>Joanna Rusch</td>\n",
       "      <td>2022-10-21 17:55:33</td>\n",
       "      <td>Maybe he just wants to ride the publicity for ...</td>\n",
       "      <td>True</td>\n",
       "      <td>Generic</td>\n",
       "      <td>False</td>\n",
       "      <td>False</td>\n",
       "    </tr>\n",
       "    <tr>\n",
       "      <th>1</th>\n",
       "      <td>Chad Larson</td>\n",
       "      <td>2022-10-21 17:30:48</td>\n",
       "      <td>To be fair to Hans....no one wants to be assoc...</td>\n",
       "      <td>True</td>\n",
       "      <td>Generic</td>\n",
       "      <td>False</td>\n",
       "      <td>False</td>\n",
       "    </tr>\n",
       "    <tr>\n",
       "      <th>2</th>\n",
       "      <td>Chad Larson</td>\n",
       "      <td>2022-10-21 17:26:56</td>\n",
       "      <td>He would have to prove he didn't cheat and tha...</td>\n",
       "      <td>True</td>\n",
       "      <td>Generic</td>\n",
       "      <td>False</td>\n",
       "      <td>False</td>\n",
       "    </tr>\n",
       "    <tr>\n",
       "      <th>3</th>\n",
       "      <td>Scott Pence</td>\n",
       "      <td>2022-10-21 17:26:04</td>\n",
       "      <td>Yeah, no way. You over shoot and hope to get a...</td>\n",
       "      <td>True</td>\n",
       "      <td>Generic</td>\n",
       "      <td>False</td>\n",
       "      <td>False</td>\n",
       "    </tr>\n",
       "    <tr>\n",
       "      <th>4</th>\n",
       "      <td>Chad Larson</td>\n",
       "      <td>2022-10-21 17:25:11</td>\n",
       "      <td>From what I see, I don't think he could win.  ...</td>\n",
       "      <td>False</td>\n",
       "      <td>Generic</td>\n",
       "      <td>False</td>\n",
       "      <td>False</td>\n",
       "    </tr>\n",
       "  </tbody>\n",
       "</table>\n",
       "</div>"
      ],
      "text/plain": [
       "         Sender           Timestamps  \\\n",
       "0  Joanna Rusch  2022-10-21 17:55:33   \n",
       "1   Chad Larson  2022-10-21 17:30:48   \n",
       "2   Chad Larson  2022-10-21 17:26:56   \n",
       "3   Scott Pence  2022-10-21 17:26:04   \n",
       "4   Chad Larson  2022-10-21 17:25:11   \n",
       "\n",
       "                                             Message  Reactions     Type  \\\n",
       "0  Maybe he just wants to ride the publicity for ...       True  Generic   \n",
       "1  To be fair to Hans....no one wants to be assoc...       True  Generic   \n",
       "2  He would have to prove he didn't cheat and tha...       True  Generic   \n",
       "3  Yeah, no way. You over shoot and hope to get a...       True  Generic   \n",
       "4  From what I see, I don't think he could win.  ...      False  Generic   \n",
       "\n",
       "   users  Has Media  \n",
       "0  False      False  \n",
       "1  False      False  \n",
       "2  False      False  \n",
       "3  False      False  \n",
       "4  False      False  "
      ]
     },
     "execution_count": 145,
     "metadata": {},
     "output_type": "execute_result"
    }
   ],
   "source": [
    "tidy_df.head()"
   ]
  },
  {
   "cell_type": "code",
   "execution_count": 146,
   "id": "6048868b-c2ce-404e-9ae0-707a99975978",
   "metadata": {},
   "outputs": [],
   "source": [
    "column_order = ['Message', 'Timestamps', 'Sender', 'Reactions', 'Type', 'users', 'Has Media']\n",
    "tidy_df = tidy_df[column_order]"
   ]
  },
  {
   "cell_type": "code",
   "execution_count": 153,
   "id": "2bf97e03-4ccc-4b25-80fe-ca25522e5a08",
   "metadata": {},
   "outputs": [],
   "source": [
    "tidy_df = tidy_df.dropna(subset=['Message'])"
   ]
  },
  {
   "cell_type": "code",
   "execution_count": 154,
   "id": "6a945106-cc29-44e4-bb14-f994ebc42a62",
   "metadata": {},
   "outputs": [
    {
     "data": {
      "text/html": [
       "<div>\n",
       "<style scoped>\n",
       "    .dataframe tbody tr th:only-of-type {\n",
       "        vertical-align: middle;\n",
       "    }\n",
       "\n",
       "    .dataframe tbody tr th {\n",
       "        vertical-align: top;\n",
       "    }\n",
       "\n",
       "    .dataframe thead th {\n",
       "        text-align: right;\n",
       "    }\n",
       "</style>\n",
       "<table border=\"1\" class=\"dataframe\">\n",
       "  <thead>\n",
       "    <tr style=\"text-align: right;\">\n",
       "      <th></th>\n",
       "      <th>Message</th>\n",
       "      <th>Timestamps</th>\n",
       "      <th>Sender</th>\n",
       "      <th>Reactions</th>\n",
       "      <th>Type</th>\n",
       "      <th>users</th>\n",
       "      <th>Has Media</th>\n",
       "    </tr>\n",
       "  </thead>\n",
       "  <tbody>\n",
       "    <tr>\n",
       "      <th>0</th>\n",
       "      <td>Maybe he just wants to ride the publicity for ...</td>\n",
       "      <td>2022-10-21 17:55:33</td>\n",
       "      <td>Joanna Rusch</td>\n",
       "      <td>True</td>\n",
       "      <td>Generic</td>\n",
       "      <td>False</td>\n",
       "      <td>False</td>\n",
       "    </tr>\n",
       "    <tr>\n",
       "      <th>1</th>\n",
       "      <td>To be fair to Hans....no one wants to be assoc...</td>\n",
       "      <td>2022-10-21 17:30:48</td>\n",
       "      <td>Chad Larson</td>\n",
       "      <td>True</td>\n",
       "      <td>Generic</td>\n",
       "      <td>False</td>\n",
       "      <td>False</td>\n",
       "    </tr>\n",
       "    <tr>\n",
       "      <th>2</th>\n",
       "      <td>He would have to prove he didn't cheat and tha...</td>\n",
       "      <td>2022-10-21 17:26:56</td>\n",
       "      <td>Chad Larson</td>\n",
       "      <td>True</td>\n",
       "      <td>Generic</td>\n",
       "      <td>False</td>\n",
       "      <td>False</td>\n",
       "    </tr>\n",
       "    <tr>\n",
       "      <th>3</th>\n",
       "      <td>Yeah, no way. You over shoot and hope to get a...</td>\n",
       "      <td>2022-10-21 17:26:04</td>\n",
       "      <td>Scott Pence</td>\n",
       "      <td>True</td>\n",
       "      <td>Generic</td>\n",
       "      <td>False</td>\n",
       "      <td>False</td>\n",
       "    </tr>\n",
       "    <tr>\n",
       "      <th>4</th>\n",
       "      <td>From what I see, I don't think he could win.  ...</td>\n",
       "      <td>2022-10-21 17:25:11</td>\n",
       "      <td>Chad Larson</td>\n",
       "      <td>False</td>\n",
       "      <td>Generic</td>\n",
       "      <td>False</td>\n",
       "      <td>False</td>\n",
       "    </tr>\n",
       "    <tr>\n",
       "      <th>...</th>\n",
       "      <td>...</td>\n",
       "      <td>...</td>\n",
       "      <td>...</td>\n",
       "      <td>...</td>\n",
       "      <td>...</td>\n",
       "      <td>...</td>\n",
       "      <td>...</td>\n",
       "    </tr>\n",
       "    <tr>\n",
       "      <th>217</th>\n",
       "      <td>Just wait until I have the black piece. I stil...</td>\n",
       "      <td>2021-03-16 00:48:23</td>\n",
       "      <td>Scott Pence</td>\n",
       "      <td>True</td>\n",
       "      <td>Generic</td>\n",
       "      <td>False</td>\n",
       "      <td>False</td>\n",
       "    </tr>\n",
       "    <tr>\n",
       "      <th>218</th>\n",
       "      <td>Thank you, thank you.</td>\n",
       "      <td>2021-03-16 00:47:23</td>\n",
       "      <td>Scott Pence</td>\n",
       "      <td>False</td>\n",
       "      <td>Generic</td>\n",
       "      <td>False</td>\n",
       "      <td>False</td>\n",
       "    </tr>\n",
       "    <tr>\n",
       "      <th>220</th>\n",
       "      <td>Chad Larson added Angela Babbitt Pence to the ...</td>\n",
       "      <td>2021-03-16 00:32:05</td>\n",
       "      <td>Chad Larson</td>\n",
       "      <td>False</td>\n",
       "      <td>Subscribe</td>\n",
       "      <td>False</td>\n",
       "      <td>False</td>\n",
       "    </tr>\n",
       "    <tr>\n",
       "      <th>221</th>\n",
       "      <td>Scott studied my games, did a specific opening...</td>\n",
       "      <td>2021-03-16 00:31:20</td>\n",
       "      <td>Chad Larson</td>\n",
       "      <td>False</td>\n",
       "      <td>Generic</td>\n",
       "      <td>False</td>\n",
       "      <td>False</td>\n",
       "    </tr>\n",
       "    <tr>\n",
       "      <th>222</th>\n",
       "      <td>Chad named the group Chess Buds.</td>\n",
       "      <td>2021-03-16 00:30:50</td>\n",
       "      <td>Chad Larson</td>\n",
       "      <td>False</td>\n",
       "      <td>Generic</td>\n",
       "      <td>False</td>\n",
       "      <td>False</td>\n",
       "    </tr>\n",
       "  </tbody>\n",
       "</table>\n",
       "<p>194 rows × 7 columns</p>\n",
       "</div>"
      ],
      "text/plain": [
       "                                               Message           Timestamps  \\\n",
       "0    Maybe he just wants to ride the publicity for ...  2022-10-21 17:55:33   \n",
       "1    To be fair to Hans....no one wants to be assoc...  2022-10-21 17:30:48   \n",
       "2    He would have to prove he didn't cheat and tha...  2022-10-21 17:26:56   \n",
       "3    Yeah, no way. You over shoot and hope to get a...  2022-10-21 17:26:04   \n",
       "4    From what I see, I don't think he could win.  ...  2022-10-21 17:25:11   \n",
       "..                                                 ...                  ...   \n",
       "217  Just wait until I have the black piece. I stil...  2021-03-16 00:48:23   \n",
       "218                              Thank you, thank you.  2021-03-16 00:47:23   \n",
       "220  Chad Larson added Angela Babbitt Pence to the ...  2021-03-16 00:32:05   \n",
       "221  Scott studied my games, did a specific opening...  2021-03-16 00:31:20   \n",
       "222                   Chad named the group Chess Buds.  2021-03-16 00:30:50   \n",
       "\n",
       "           Sender  Reactions       Type  users  Has Media  \n",
       "0    Joanna Rusch       True    Generic  False      False  \n",
       "1     Chad Larson       True    Generic  False      False  \n",
       "2     Chad Larson       True    Generic  False      False  \n",
       "3     Scott Pence       True    Generic  False      False  \n",
       "4     Chad Larson      False    Generic  False      False  \n",
       "..            ...        ...        ...    ...        ...  \n",
       "217   Scott Pence       True    Generic  False      False  \n",
       "218   Scott Pence      False    Generic  False      False  \n",
       "220   Chad Larson      False  Subscribe  False      False  \n",
       "221   Chad Larson      False    Generic  False      False  \n",
       "222   Chad Larson      False    Generic  False      False  \n",
       "\n",
       "[194 rows x 7 columns]"
      ]
     },
     "execution_count": 154,
     "metadata": {},
     "output_type": "execute_result"
    }
   ],
   "source": [
    "tidy_df"
   ]
  },
  {
   "cell_type": "markdown",
   "id": "88d2cce1-8fa8-411b-bc82-ccd6e3081bc1",
   "metadata": {},
   "source": [
    "**Describe what the row-level (observation) represents and what each column represents**\n",
    "The row-level represents each message. The columns represent the variables of Timestamp, Sender, if it has a reaction, the type, and if it has media (which I seem to have borked and accidentally made all false somewhere along the line).\n",
    "\n",
    "**Describe how the final DataFrame meets tidy data principles**\n",
    "Each message and it's associated data is on separate rows. Some columns were condensed down for more readability. Others were removed due to being questionable or confusing (bumping?? I saw articles saying it was supposedly a new thing for 2024, lol). Removed messages that were NaN.\n",
    "\n",
    "**What are (if any) alternative, tidy formats that would also be acceptable for this data?**\n",
    "Observations could be made from a sender/user focus with more attention paid to who was most active, reactions, etc.\n",
    "\n",
    "**Describe a potential visualization that would let someone explore and, ultimately, better understand this data**\n",
    "I can't help but picture an overly complicated to produce recreation of the chat with interaction that allows you to dig into the data and bring up graphs. Going a step further and analyzing the content of the messages / word count would be interesting. Perhaps post cadence based on main topic or time. It would be unnecessary and probably a UI nightmare but probably still better than a bingo card. Maybe."
   ]
  },
  {
   "cell_type": "code",
   "execution_count": null,
   "id": "43d21f9a-7a8d-47b6-8947-88dc9f6d7934",
   "metadata": {},
   "outputs": [],
   "source": []
  }
 ],
 "metadata": {
  "kernelspec": {
   "display_name": "Python 3 (ipykernel)",
   "language": "python",
   "name": "python3"
  },
  "language_info": {
   "codemirror_mode": {
    "name": "ipython",
    "version": 3
   },
   "file_extension": ".py",
   "mimetype": "text/x-python",
   "name": "python",
   "nbconvert_exporter": "python",
   "pygments_lexer": "ipython3",
   "version": "3.12.1"
  }
 },
 "nbformat": 4,
 "nbformat_minor": 5
}

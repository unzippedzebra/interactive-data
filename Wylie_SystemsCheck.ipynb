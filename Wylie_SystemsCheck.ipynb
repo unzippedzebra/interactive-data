{
 "cells": [
  {
   "cell_type": "markdown",
   "id": "19d26163-f7e4-4068-9b98-e59b042a68ea",
   "metadata": {},
   "source": [
    "![a snake looking at a laptop screen](myanacondadont.png)\n",
    "\n",
    "## Markdown Portion\n",
    "---\n",
    "Multi-level headings, ordered lists, and **bold** and *italics text*, and an image – In these cells describe what you hope to get out of this class\n",
    "\n",
    "### What I Hope to Get out of This Class\n",
    "---\n",
    "1. Hopefully to try not to code in some bastardized combination of Python and Javascript since I'm also taking the Web App Dev course this semester.\n",
    "2. To see how and if I can approach things from a creative angle.\n",
    "3. Successfully navigate and understand number related data and code. Numbers are kind of spooky\n"
   ]
  },
  {
   "cell_type": "markdown",
   "id": "b6bdf961-cad4-4454-8831-849bd3813d97",
   "metadata": {},
   "source": [
    "### Python Portion\n",
    "---\n",
    "Python syntax: variable assignment, **a for loop**, and a function with a print statement *and* a return statement"
   ]
  },
  {
   "cell_type": "code",
   "execution_count": null,
   "id": "0b296e09-1615-481b-807f-a0b423480858",
   "metadata": {},
   "outputs": [],
   "source": [
    "x = 9"
   ]
  },
  {
   "cell_type": "code",
   "execution_count": 10,
   "id": "5c4a1a36-c7b1-432c-a0d9-96a2a6ec8f82",
   "metadata": {},
   "outputs": [],
   "source": [
    "foo = [\"Hello\", \"World\"]\n",
    "def uniqueFunc():\n",
    "    for i in foo:\n",
    "        print (i)\n",
    "        return i*4\n",
    "        "
   ]
  },
  {
   "cell_type": "code",
   "execution_count": 12,
   "id": "c861ebc5-0d93-4dde-bff7-a3cb4a57d77d",
   "metadata": {},
   "outputs": [
    {
     "name": "stdout",
     "output_type": "stream",
     "text": [
      "Hello\n"
     ]
    },
    {
     "data": {
      "text/plain": [
       "'HelloHelloHelloHello'"
      ]
     },
     "execution_count": 12,
     "metadata": {},
     "output_type": "execute_result"
    }
   ],
   "source": [
    "uniqueFunc()"
   ]
  },
  {
   "cell_type": "code",
   "execution_count": null,
   "id": "3891a273-5947-42fa-a95d-d03c64102863",
   "metadata": {},
   "outputs": [],
   "source": []
  }
 ],
 "metadata": {
  "kernelspec": {
   "display_name": "Python 3 (ipykernel)",
   "language": "python",
   "name": "python3"
  },
  "language_info": {
   "codemirror_mode": {
    "name": "ipython",
    "version": 3
   },
   "file_extension": ".py",
   "mimetype": "text/x-python",
   "name": "python",
   "nbconvert_exporter": "python",
   "pygments_lexer": "ipython3",
   "version": "3.12.1"
  }
 },
 "nbformat": 4,
 "nbformat_minor": 5
}
